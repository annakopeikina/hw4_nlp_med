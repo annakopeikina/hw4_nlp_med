{
 "cells": [
  {
   "cell_type": "code",
   "execution_count": 1,
   "id": "c6f2daba",
   "metadata": {},
   "outputs": [
    {
     "name": "stdout",
     "output_type": "stream",
     "text": [
      "Defaulting to user installation because normal site-packages is not writeable\n",
      "Requirement already satisfied: pandas in c:\\users\\annav\\appdata\\roaming\\python\\python310\\site-packages (2.2.3)\n",
      "Requirement already satisfied: python-dateutil>=2.8.2 in c:\\users\\annav\\appdata\\roaming\\python\\python310\\site-packages (from pandas) (2.9.0.post0)\n",
      "Requirement already satisfied: pytz>=2020.1 in c:\\users\\annav\\appdata\\roaming\\python\\python310\\site-packages (from pandas) (2025.1)\n",
      "Requirement already satisfied: numpy>=1.22.4 in c:\\users\\annav\\appdata\\roaming\\python\\python310\\site-packages (from pandas) (1.23.5)\n",
      "Requirement already satisfied: tzdata>=2022.7 in c:\\users\\annav\\appdata\\roaming\\python\\python310\\site-packages (from pandas) (2025.1)\n",
      "Requirement already satisfied: six>=1.5 in c:\\users\\annav\\appdata\\roaming\\python\\python310\\site-packages (from python-dateutil>=2.8.2->pandas) (1.17.0)\n",
      "Note: you may need to restart the kernel to use updated packages.\n"
     ]
    },
    {
     "name": "stderr",
     "output_type": "stream",
     "text": [
      "WARNING: You are using pip version 21.2.3; however, version 25.0.1 is available.\n",
      "You should consider upgrading via the 'c:\\Program Files\\Python310\\python.exe -m pip install --upgrade pip' command.\n"
     ]
    },
    {
     "name": "stdout",
     "output_type": "stream",
     "text": [
      "Defaulting to user installation because normal site-packages is not writeable\n",
      "Requirement already satisfied: numpy in c:\\users\\annav\\appdata\\roaming\\python\\python310\\site-packages (1.23.5)\n",
      "Note: you may need to restart the kernel to use updated packages.\n"
     ]
    },
    {
     "name": "stderr",
     "output_type": "stream",
     "text": [
      "WARNING: You are using pip version 21.2.3; however, version 25.0.1 is available.\n",
      "You should consider upgrading via the 'c:\\Program Files\\Python310\\python.exe -m pip install --upgrade pip' command.\n"
     ]
    },
    {
     "name": "stdout",
     "output_type": "stream",
     "text": [
      "Defaulting to user installation because normal site-packages is not writeable\n",
      "Requirement already satisfied: scipy in c:\\users\\annav\\appdata\\roaming\\python\\python310\\site-packages (1.10.0)\n",
      "Requirement already satisfied: numpy<1.27.0,>=1.19.5 in c:\\users\\annav\\appdata\\roaming\\python\\python310\\site-packages (from scipy) (1.23.5)\n",
      "Note: you may need to restart the kernel to use updated packages.\n"
     ]
    },
    {
     "name": "stderr",
     "output_type": "stream",
     "text": [
      "WARNING: You are using pip version 21.2.3; however, version 25.0.1 is available.\n",
      "You should consider upgrading via the 'c:\\Program Files\\Python310\\python.exe -m pip install --upgrade pip' command.\n"
     ]
    },
    {
     "name": "stdout",
     "output_type": "stream",
     "text": [
      "Note: you may need to restart the kernel to use updated packages.Defaulting to user installation because normal site-packages is not writeable\n",
      "Requirement already satisfied: matplotlib in c:\\users\\annav\\appdata\\roaming\\python\\python310\\site-packages (3.10.1)\n",
      "Requirement already satisfied: contourpy>=1.0.1 in c:\\users\\annav\\appdata\\roaming\\python\\python310\\site-packages (from matplotlib) (1.3.1)\n",
      "Requirement already satisfied: numpy>=1.23 in c:\\users\\annav\\appdata\\roaming\\python\\python310\\site-packages (from matplotlib) (1.23.5)\n",
      "Requirement already satisfied: kiwisolver>=1.3.1 in c:\\users\\annav\\appdata\\roaming\\python\\python310\\site-packages (from matplotlib) (1.4.8)\n",
      "Requirement already satisfied: python-dateutil>=2.7 in c:\\users\\annav\\appdata\\roaming\\python\\python310\\site-packages (from matplotlib) (2.9.0.post0)\n",
      "Requirement already satisfied: fonttools>=4.22.0 in c:\\users\\annav\\appdata\\roaming\\python\\python310\\site-packages (from matplotlib) (4.56.0)\n",
      "Requirement already satisfied: cycler>=0.10 in c:\\users\\annav\\appdata\\roaming\\python\\python310\\site-packages (from matplotlib) (0.12.1)\n",
      "Requirement already satisfied: pillow>=8 in c:\\users\\annav\\appdata\\roaming\\python\\python310\\site-packages (from matplotlib) (11.1.0)\n",
      "Requirement already satisfied: pyparsing>=2.3.1 in c:\\users\\annav\\appdata\\roaming\\python\\python310\\site-packages (from matplotlib) (3.2.1)\n",
      "Requirement already satisfied: packaging>=20.0 in c:\\users\\annav\\appdata\\roaming\\python\\python310\\site-packages (from matplotlib) (24.2)\n",
      "Requirement already satisfied: six>=1.5 in c:\\users\\annav\\appdata\\roaming\\python\\python310\\site-packages (from python-dateutil>=2.7->matplotlib) (1.17.0)\n",
      "\n"
     ]
    },
    {
     "name": "stderr",
     "output_type": "stream",
     "text": [
      "WARNING: You are using pip version 21.2.3; however, version 25.0.1 is available.\n",
      "You should consider upgrading via the 'c:\\Program Files\\Python310\\python.exe -m pip install --upgrade pip' command.\n"
     ]
    },
    {
     "name": "stdout",
     "output_type": "stream",
     "text": [
      "Defaulting to user installation because normal site-packages is not writeable\n",
      "Requirement already satisfied: scikit-learn in c:\\users\\annav\\appdata\\roaming\\python\\python310\\site-packages (1.6.1)\n",
      "Requirement already satisfied: threadpoolctl>=3.1.0 in c:\\users\\annav\\appdata\\roaming\\python\\python310\\site-packages (from scikit-learn) (3.6.0)\n",
      "Requirement already satisfied: joblib>=1.2.0 in c:\\users\\annav\\appdata\\roaming\\python\\python310\\site-packages (from scikit-learn) (1.4.2)\n",
      "Requirement already satisfied: numpy>=1.19.5 in c:\\users\\annav\\appdata\\roaming\\python\\python310\\site-packages (from scikit-learn) (1.23.5)\n",
      "Requirement already satisfied: scipy>=1.6.0 in c:\\users\\annav\\appdata\\roaming\\python\\python310\\site-packages (from scikit-learn) (1.10.0)\n",
      "Note: you may need to restart the kernel to use updated packages.\n"
     ]
    },
    {
     "name": "stderr",
     "output_type": "stream",
     "text": [
      "WARNING: You are using pip version 21.2.3; however, version 25.0.1 is available.\n",
      "You should consider upgrading via the 'c:\\Program Files\\Python310\\python.exe -m pip install --upgrade pip' command.\n"
     ]
    },
    {
     "name": "stdout",
     "output_type": "stream",
     "text": [
      "Defaulting to user installation because normal site-packages is not writeable\n",
      "Requirement already satisfied: seaborn in c:\\users\\annav\\appdata\\roaming\\python\\python310\\site-packages (0.13.2)\n",
      "Requirement already satisfied: matplotlib!=3.6.1,>=3.4 in c:\\users\\annav\\appdata\\roaming\\python\\python310\\site-packages (from seaborn) (3.10.1)\n",
      "Requirement already satisfied: pandas>=1.2 in c:\\users\\annav\\appdata\\roaming\\python\\python310\\site-packages (from seaborn) (2.2.3)\n",
      "Requirement already satisfied: numpy!=1.24.0,>=1.20 in c:\\users\\annav\\appdata\\roaming\\python\\python310\\site-packages (from seaborn) (1.23.5)\n",
      "Requirement already satisfied: packaging>=20.0 in c:\\users\\annav\\appdata\\roaming\\python\\python310\\site-packages (from matplotlib!=3.6.1,>=3.4->seaborn) (24.2)\n",
      "Requirement already satisfied: contourpy>=1.0.1 in c:\\users\\annav\\appdata\\roaming\\python\\python310\\site-packages (from matplotlib!=3.6.1,>=3.4->seaborn) (1.3.1)\n",
      "Requirement already satisfied: fonttools>=4.22.0 in c:\\users\\annav\\appdata\\roaming\\python\\python310\\site-packages (from matplotlib!=3.6.1,>=3.4->seaborn) (4.56.0)\n",
      "Requirement already satisfied: pillow>=8 in c:\\users\\annav\\appdata\\roaming\\python\\python310\\site-packages (from matplotlib!=3.6.1,>=3.4->seaborn) (11.1.0)\n",
      "Requirement already satisfied: kiwisolver>=1.3.1 in c:\\users\\annav\\appdata\\roaming\\python\\python310\\site-packages (from matplotlib!=3.6.1,>=3.4->seaborn) (1.4.8)\n",
      "Requirement already satisfied: python-dateutil>=2.7 in c:\\users\\annav\\appdata\\roaming\\python\\python310\\site-packages (from matplotlib!=3.6.1,>=3.4->seaborn) (2.9.0.post0)\n",
      "Requirement already satisfied: cycler>=0.10 in c:\\users\\annav\\appdata\\roaming\\python\\python310\\site-packages (from matplotlib!=3.6.1,>=3.4->seaborn) (0.12.1)\n",
      "Requirement already satisfied: pyparsing>=2.3.1 in c:\\users\\annav\\appdata\\roaming\\python\\python310\\site-packages (from matplotlib!=3.6.1,>=3.4->seaborn) (3.2.1)\n",
      "Requirement already satisfied: pytz>=2020.1 in c:\\users\\annav\\appdata\\roaming\\python\\python310\\site-packages (from pandas>=1.2->seaborn) (2025.1)\n",
      "Requirement already satisfied: tzdata>=2022.7 in c:\\users\\annav\\appdata\\roaming\\python\\python310\\site-packages (from pandas>=1.2->seaborn) (2025.1)\n",
      "Requirement already satisfied: six>=1.5 in c:\\users\\annav\\appdata\\roaming\\python\\python310\\site-packages (from python-dateutil>=2.7->matplotlib!=3.6.1,>=3.4->seaborn) (1.17.0)\n",
      "Note: you may need to restart the kernel to use updated packages.\n"
     ]
    },
    {
     "name": "stderr",
     "output_type": "stream",
     "text": [
      "WARNING: You are using pip version 21.2.3; however, version 25.0.1 is available.\n",
      "You should consider upgrading via the 'c:\\Program Files\\Python310\\python.exe -m pip install --upgrade pip' command.\n"
     ]
    }
   ],
   "source": [
    "%pip install pandas\n",
    "%pip install numpy\n",
    "%pip install scipy\n",
    "%pip install matplotlib\n",
    "%pip install scikit-learn\n",
    "%pip install seaborn"
   ]
  },
  {
   "cell_type": "code",
   "execution_count": 2,
   "id": "2b0d74de",
   "metadata": {
    "id": "2b0d74de"
   },
   "outputs": [],
   "source": [
    "import pandas as pd\n",
    "import numpy as np\n",
    "from scipy import stats\n",
    "import matplotlib.pyplot as plt\n",
    "from scipy.stats import mannwhitneyu,ttest_ind, kruskal,chisquare, pearsonr, spearmanr\n",
    "from sklearn import preprocessing\n",
    "from sklearn.preprocessing import StandardScaler\n",
    "from sklearn.model_selection import train_test_split\n",
    "import seaborn as sns\n",
    "import matplotlib.pyplot as plt"
   ]
  },
  {
   "cell_type": "code",
   "execution_count": 3,
   "id": "0ec7f0e7",
   "metadata": {
    "id": "0ec7f0e7"
   },
   "outputs": [
    {
     "name": "stdout",
     "output_type": "stream",
     "text": [
      "<class 'pandas.core.frame.DataFrame'>\n",
      "RangeIndex: 54976 entries, 0 to 54975\n",
      "Data columns (total 20 columns):\n",
      " #   Column          Non-Null Count  Dtype  \n",
      "---  ------          --------------  -----  \n",
      " 0   Unnamed: 0      54976 non-null  int64  \n",
      " 1   person_id       54976 non-null  int64  \n",
      " 2   procalcitonine  54976 non-null  float64\n",
      " 3   fibrinogen      42093 non-null  float64\n",
      " 4   creatinine      54967 non-null  float64\n",
      " 5   wbc             54970 non-null  float64\n",
      " 6   hb              54970 non-null  float64\n",
      " 7   plt             54957 non-null  float64\n",
      " 8   crp             54930 non-null  float64\n",
      " 9   esr             46623 non-null  float64\n",
      " 10  lymph           54928 non-null  float64\n",
      " 11  pneumonia       54976 non-null  int64  \n",
      " 12  ihd             54976 non-null  int64  \n",
      " 13  dm              54976 non-null  int64  \n",
      " 14  ah              54976 non-null  int64  \n",
      " 15  sex             54976 non-null  int64  \n",
      " 16  len             54976 non-null  int64  \n",
      " 17  age             54976 non-null  int64  \n",
      " 18  GFR             54967 non-null  float64\n",
      " 19  ab_indication   54976 non-null  int64  \n",
      "dtypes: float64(10), int64(10)\n",
      "memory usage: 8.4 MB\n"
     ]
    }
   ],
   "source": [
    "df = pd.read_csv(r'C:\\Users\\annav\\OneDrive\\Desktop\\NaturalLanguageProcessing_tests\\hw4_nlp\\final_ab_ds.csv')\n",
    "df.info()"
   ]
  },
  {
   "cell_type": "code",
   "execution_count": 4,
   "id": "beda4378",
   "metadata": {
    "id": "beda4378"
   },
   "outputs": [],
   "source": [
    "df = df.dropna()"
   ]
  },
  {
   "cell_type": "code",
   "execution_count": 5,
   "id": "db28b456",
   "metadata": {
    "id": "db28b456",
    "outputId": "21c1e68e-2316-4392-ad1b-c3725c34d726"
   },
   "outputs": [
    {
     "name": "stdout",
     "output_type": "stream",
     "text": [
      "Examples:\n",
      "    Total: 35680\n",
      "    Positive: 8873 (24.9% of total)\n",
      "\n"
     ]
    }
   ],
   "source": [
    "neg, pos = np.bincount(df['ab_indication'])\n",
    "total = neg + pos\n",
    "print('Examples:\\n    Total: {}\\n    Positive: {} ({:.1f}% of total)\\n'.format(\n",
    "    total, pos, 100 * pos / total))"
   ]
  },
  {
   "cell_type": "markdown",
   "id": "028a6b36",
   "metadata": {
    "id": "028a6b36"
   },
   "source": [
    "Отметим, что данные несбалансированы"
   ]
  },
  {
   "cell_type": "code",
   "execution_count": 6,
   "id": "69d61f0c",
   "metadata": {
    "id": "69d61f0c",
    "outputId": "4784ce2f-9e68-4548-ef94-1063787de39f"
   },
   "outputs": [
    {
     "data": {
      "image/png": "[encoded data removed]",
      "text/plain": [
       "<Figure size 1800x1800 with 2 Axes>"
      ]
     },
     "metadata": {},
     "output_type": "display_data"
    }
   ],
   "source": [
    "#Построим корреляционную матрицу\n",
    "cmap = sns.diverging_palette(275,150,  s=40, l=65, n=9)\n",
    "corrmat = df.corr()\n",
    "plt.subplots(figsize=(18, 18))\n",
    "sns.heatmap(corrmat, cmap= cmap, annot=True, square=True);"
   ]
  },
  {
   "cell_type": "code",
   "execution_count": 7,
   "id": "6529a107",
   "metadata": {
    "id": "6529a107"
   },
   "outputs": [],
   "source": [
    "columns =['plt', 'esr', 'fibrinogen', 'creatinine', 'wbc',  'crp','lymph']\n",
    "df_no_ind = df[df['ab_indication'] == 0]\n",
    "df_ind = df[df['ab_indication'] == 1]"
   ]
  },
  {
   "cell_type": "code",
   "execution_count": 8,
   "id": "70f092bb",
   "metadata": {
    "id": "70f092bb",
    "outputId": "c5372161-225b-41c9-d120-c370f053bf4e"
   },
   "outputs": [
    {
     "data": {
      "text/html": [
       "<div>\n",
       "<style scoped>\n",
       "    .dataframe tbody tr th:only-of-type {\n",
       "        vertical-align: middle;\n",
       "    }\n",
       "\n",
       "    .dataframe tbody tr th {\n",
       "        vertical-align: top;\n",
       "    }\n",
       "\n",
       "    .dataframe thead th {\n",
       "        text-align: right;\n",
       "    }\n",
       "</style>\n",
       "<table border=\"1\" class=\"dataframe\">\n",
       "  <thead>\n",
       "    <tr style=\"text-align: right;\">\n",
       "      <th></th>\n",
       "      <th>Unnamed: 0</th>\n",
       "      <th>person_id</th>\n",
       "      <th>procalcitonine</th>\n",
       "      <th>fibrinogen</th>\n",
       "      <th>creatinine</th>\n",
       "      <th>wbc</th>\n",
       "      <th>hb</th>\n",
       "      <th>plt</th>\n",
       "      <th>crp</th>\n",
       "      <th>esr</th>\n",
       "      <th>lymph</th>\n",
       "      <th>pneumonia</th>\n",
       "      <th>ihd</th>\n",
       "      <th>dm</th>\n",
       "      <th>ah</th>\n",
       "      <th>sex</th>\n",
       "      <th>len</th>\n",
       "      <th>age</th>\n",
       "      <th>GFR</th>\n",
       "      <th>ab_indication</th>\n",
       "    </tr>\n",
       "  </thead>\n",
       "  <tbody>\n",
       "    <tr>\n",
       "      <th>1</th>\n",
       "      <td>3822</td>\n",
       "      <td>158</td>\n",
       "      <td>0.000000</td>\n",
       "      <td>8.909846</td>\n",
       "      <td>1.030282</td>\n",
       "      <td>1.363834</td>\n",
       "      <td>143.647123</td>\n",
       "      <td>644.437365</td>\n",
       "      <td>58.343027</td>\n",
       "      <td>34.424705</td>\n",
       "      <td>23.300684</td>\n",
       "      <td>1</td>\n",
       "      <td>0</td>\n",
       "      <td>0</td>\n",
       "      <td>0</td>\n",
       "      <td>1</td>\n",
       "      <td>17</td>\n",
       "      <td>56</td>\n",
       "      <td>60.894798</td>\n",
       "      <td>0</td>\n",
       "    </tr>\n",
       "    <tr>\n",
       "      <th>2</th>\n",
       "      <td>915492</td>\n",
       "      <td>342</td>\n",
       "      <td>0.000000</td>\n",
       "      <td>7.092240</td>\n",
       "      <td>1.027174</td>\n",
       "      <td>25.710224</td>\n",
       "      <td>130.864644</td>\n",
       "      <td>483.261016</td>\n",
       "      <td>0.800000</td>\n",
       "      <td>25.493102</td>\n",
       "      <td>27.004637</td>\n",
       "      <td>1</td>\n",
       "      <td>0</td>\n",
       "      <td>0</td>\n",
       "      <td>0</td>\n",
       "      <td>1</td>\n",
       "      <td>34</td>\n",
       "      <td>56</td>\n",
       "      <td>61.117621</td>\n",
       "      <td>0</td>\n",
       "    </tr>\n",
       "    <tr>\n",
       "      <th>3</th>\n",
       "      <td>641908</td>\n",
       "      <td>108</td>\n",
       "      <td>0.134918</td>\n",
       "      <td>13.265546</td>\n",
       "      <td>0.707201</td>\n",
       "      <td>0.410000</td>\n",
       "      <td>141.945473</td>\n",
       "      <td>477.671705</td>\n",
       "      <td>7.526411</td>\n",
       "      <td>46.599795</td>\n",
       "      <td>17.167563</td>\n",
       "      <td>1</td>\n",
       "      <td>0</td>\n",
       "      <td>0</td>\n",
       "      <td>0</td>\n",
       "      <td>1</td>\n",
       "      <td>26</td>\n",
       "      <td>56</td>\n",
       "      <td>95.972393</td>\n",
       "      <td>0</td>\n",
       "    </tr>\n",
       "    <tr>\n",
       "      <th>4</th>\n",
       "      <td>89879</td>\n",
       "      <td>108</td>\n",
       "      <td>0.000000</td>\n",
       "      <td>15.336425</td>\n",
       "      <td>1.094880</td>\n",
       "      <td>12.546527</td>\n",
       "      <td>120.607466</td>\n",
       "      <td>704.633325</td>\n",
       "      <td>27.180197</td>\n",
       "      <td>35.411333</td>\n",
       "      <td>15.268175</td>\n",
       "      <td>1</td>\n",
       "      <td>0</td>\n",
       "      <td>0</td>\n",
       "      <td>0</td>\n",
       "      <td>1</td>\n",
       "      <td>28</td>\n",
       "      <td>56</td>\n",
       "      <td>56.578279</td>\n",
       "      <td>0</td>\n",
       "    </tr>\n",
       "    <tr>\n",
       "      <th>5</th>\n",
       "      <td>744110</td>\n",
       "      <td>980</td>\n",
       "      <td>0.324985</td>\n",
       "      <td>9.899282</td>\n",
       "      <td>1.265045</td>\n",
       "      <td>7.001120</td>\n",
       "      <td>125.988145</td>\n",
       "      <td>166.613698</td>\n",
       "      <td>0.800000</td>\n",
       "      <td>27.280940</td>\n",
       "      <td>12.404405</td>\n",
       "      <td>1</td>\n",
       "      <td>1</td>\n",
       "      <td>0</td>\n",
       "      <td>0</td>\n",
       "      <td>1</td>\n",
       "      <td>33</td>\n",
       "      <td>48</td>\n",
       "      <td>50.257856</td>\n",
       "      <td>0</td>\n",
       "    </tr>\n",
       "    <tr>\n",
       "      <th>...</th>\n",
       "      <td>...</td>\n",
       "      <td>...</td>\n",
       "      <td>...</td>\n",
       "      <td>...</td>\n",
       "      <td>...</td>\n",
       "      <td>...</td>\n",
       "      <td>...</td>\n",
       "      <td>...</td>\n",
       "      <td>...</td>\n",
       "      <td>...</td>\n",
       "      <td>...</td>\n",
       "      <td>...</td>\n",
       "      <td>...</td>\n",
       "      <td>...</td>\n",
       "      <td>...</td>\n",
       "      <td>...</td>\n",
       "      <td>...</td>\n",
       "      <td>...</td>\n",
       "      <td>...</td>\n",
       "      <td>...</td>\n",
       "    </tr>\n",
       "    <tr>\n",
       "      <th>41224</th>\n",
       "      <td>718264</td>\n",
       "      <td>706</td>\n",
       "      <td>0.112622</td>\n",
       "      <td>11.122910</td>\n",
       "      <td>0.954530</td>\n",
       "      <td>13.101311</td>\n",
       "      <td>141.795781</td>\n",
       "      <td>374.247891</td>\n",
       "      <td>21.111733</td>\n",
       "      <td>19.814036</td>\n",
       "      <td>12.839993</td>\n",
       "      <td>1</td>\n",
       "      <td>1</td>\n",
       "      <td>0</td>\n",
       "      <td>0</td>\n",
       "      <td>1</td>\n",
       "      <td>42</td>\n",
       "      <td>56</td>\n",
       "      <td>66.784947</td>\n",
       "      <td>0</td>\n",
       "    </tr>\n",
       "    <tr>\n",
       "      <th>41225</th>\n",
       "      <td>556216</td>\n",
       "      <td>1103</td>\n",
       "      <td>0.199631</td>\n",
       "      <td>7.135134</td>\n",
       "      <td>1.099085</td>\n",
       "      <td>36.772744</td>\n",
       "      <td>137.856675</td>\n",
       "      <td>178.047896</td>\n",
       "      <td>48.956390</td>\n",
       "      <td>17.813114</td>\n",
       "      <td>0.010000</td>\n",
       "      <td>1</td>\n",
       "      <td>0</td>\n",
       "      <td>0</td>\n",
       "      <td>0</td>\n",
       "      <td>1</td>\n",
       "      <td>39</td>\n",
       "      <td>35</td>\n",
       "      <td>65.268376</td>\n",
       "      <td>0</td>\n",
       "    </tr>\n",
       "    <tr>\n",
       "      <th>41227</th>\n",
       "      <td>144924</td>\n",
       "      <td>1013</td>\n",
       "      <td>0.335003</td>\n",
       "      <td>4.822600</td>\n",
       "      <td>0.905691</td>\n",
       "      <td>19.587708</td>\n",
       "      <td>136.475023</td>\n",
       "      <td>261.638296</td>\n",
       "      <td>115.226867</td>\n",
       "      <td>41.099277</td>\n",
       "      <td>10.731909</td>\n",
       "      <td>1</td>\n",
       "      <td>0</td>\n",
       "      <td>0</td>\n",
       "      <td>0</td>\n",
       "      <td>1</td>\n",
       "      <td>28</td>\n",
       "      <td>35</td>\n",
       "      <td>82.474743</td>\n",
       "      <td>0</td>\n",
       "    </tr>\n",
       "    <tr>\n",
       "      <th>41229</th>\n",
       "      <td>818312</td>\n",
       "      <td>1103</td>\n",
       "      <td>0.125672</td>\n",
       "      <td>2.440000</td>\n",
       "      <td>0.957168</td>\n",
       "      <td>39.037341</td>\n",
       "      <td>163.876818</td>\n",
       "      <td>161.291325</td>\n",
       "      <td>127.079600</td>\n",
       "      <td>22.661706</td>\n",
       "      <td>13.759877</td>\n",
       "      <td>1</td>\n",
       "      <td>1</td>\n",
       "      <td>0</td>\n",
       "      <td>0</td>\n",
       "      <td>1</td>\n",
       "      <td>52</td>\n",
       "      <td>26</td>\n",
       "      <td>82.177240</td>\n",
       "      <td>0</td>\n",
       "    </tr>\n",
       "    <tr>\n",
       "      <th>41231</th>\n",
       "      <td>942273</td>\n",
       "      <td>878</td>\n",
       "      <td>0.012489</td>\n",
       "      <td>7.939977</td>\n",
       "      <td>0.946938</td>\n",
       "      <td>28.296942</td>\n",
       "      <td>129.378013</td>\n",
       "      <td>383.096802</td>\n",
       "      <td>31.694810</td>\n",
       "      <td>41.224334</td>\n",
       "      <td>2.274455</td>\n",
       "      <td>1</td>\n",
       "      <td>1</td>\n",
       "      <td>0</td>\n",
       "      <td>0</td>\n",
       "      <td>1</td>\n",
       "      <td>40</td>\n",
       "      <td>60</td>\n",
       "      <td>65.564415</td>\n",
       "      <td>0</td>\n",
       "    </tr>\n",
       "  </tbody>\n",
       "</table>\n",
       "<p>26807 rows × 20 columns</p>\n",
       "</div>"
      ],
      "text/plain": [
       "       Unnamed: 0  person_id  procalcitonine  fibrinogen  creatinine  \\\n",
       "1            3822        158        0.000000    8.909846    1.030282   \n",
       "2          915492        342        0.000000    7.092240    1.027174   \n",
       "3          641908        108        0.134918   13.265546    0.707201   \n",
       "4           89879        108        0.000000   15.336425    1.094880   \n",
       "5          744110        980        0.324985    9.899282    1.265045   \n",
       "...           ...        ...             ...         ...         ...   \n",
       "41224      718264        706        0.112622   11.122910    0.954530   \n",
       "41225      556216       1103        0.199631    7.135134    1.099085   \n",
       "41227      144924       1013        0.335003    4.822600    0.905691   \n",
       "41229      818312       1103        0.125672    2.440000    0.957168   \n",
       "41231      942273        878        0.012489    7.939977    0.946938   \n",
       "\n",
       "             wbc          hb         plt         crp        esr      lymph  \\\n",
       "1       1.363834  143.647123  644.437365   58.343027  34.424705  23.300684   \n",
       "2      25.710224  130.864644  483.261016    0.800000  25.493102  27.004637   \n",
       "3       0.410000  141.945473  477.671705    7.526411  46.599795  17.167563   \n",
       "4      12.546527  120.607466  704.633325   27.180197  35.411333  15.268175   \n",
       "5       7.001120  125.988145  166.613698    0.800000  27.280940  12.404405   \n",
       "...          ...         ...         ...         ...        ...        ...   \n",
       "41224  13.101311  141.795781  374.247891   21.111733  19.814036  12.839993   \n",
       "41225  36.772744  137.856675  178.047896   48.956390  17.813114   0.010000   \n",
       "41227  19.587708  136.475023  261.638296  115.226867  41.099277  10.731909   \n",
       "41229  39.037341  163.876818  161.291325  127.079600  22.661706  13.759877   \n",
       "41231  28.296942  129.378013  383.096802   31.694810  41.224334   2.274455   \n",
       "\n",
       "       pneumonia  ihd  dm  ah  sex  len  age        GFR  ab_indication  \n",
       "1              1    0   0   0    1   17   56  60.894798              0  \n",
       "2              1    0   0   0    1   34   56  61.117621              0  \n",
       "3              1    0   0   0    1   26   56  95.972393              0  \n",
       "4              1    0   0   0    1   28   56  56.578279              0  \n",
       "5              1    1   0   0    1   33   48  50.257856              0  \n",
       "...          ...  ...  ..  ..  ...  ...  ...        ...            ...  \n",
       "41224          1    1   0   0    1   42   56  66.784947              0  \n",
       "41225          1    0   0   0    1   39   35  65.268376              0  \n",
       "41227          1    0   0   0    1   28   35  82.474743              0  \n",
       "41229          1    1   0   0    1   52   26  82.177240              0  \n",
       "41231          1    1   0   0    1   40   60  65.564415              0  \n",
       "\n",
       "[26807 rows x 20 columns]"
      ]
     },
     "execution_count": 8,
     "metadata": {},
     "output_type": "execute_result"
    }
   ],
   "source": [
    "df_no_ind"
   ]
  },
  {
   "cell_type": "code",
   "execution_count": 9,
   "id": "de522ccd",
   "metadata": {
    "id": "de522ccd"
   },
   "outputs": [
    {
     "name": "stdout",
     "output_type": "stream",
     "text": [
      "Данные plt распределены ненормально,           p-value - 1.5900588566632336e-20\n",
      "Данные plt распределены ненормально,           p-value - 7.237914522152905e-47\n",
      "Данные esr распределены ненормально,           p-value - 1.1770723532313181e-40\n",
      "Данные esr распределены ненормально,           p-value - 1.392579617834783e-30\n",
      "Данные fibrinogen распределены ненормально,           p-value - 9.052275578863804e-20\n",
      "Данные fibrinogen распределены ненормально,           p-value - 4.40147617694549e-27\n",
      "Данные creatinine распределены ненормально,           p-value - 1.8625010377532536e-23\n",
      "Данные creatinine распределены ненормально,           p-value - 3.273536824833956e-13\n",
      "Данные wbc распределены ненормально,           p-value - 2.6084998117038834e-60\n",
      "Данные wbc распределены ненормально,           p-value - 9.905119130316824e-29\n",
      "Данные crp распределены ненормально,           p-value - 2.4787564163861844e-80\n",
      "Данные crp распределены ненормально,           p-value - 9.303236947157292e-34\n",
      "Данные lymph распределены ненормально,           p-value - 1.4364510150813653e-36\n",
      "Данные lymph распределены ненормально,           p-value - 1.6387929285789884e-38\n"
     ]
    }
   ],
   "source": [
    "import warnings\n",
    "warnings.filterwarnings('ignore')\n",
    "for i in columns:\n",
    "  lst1 = df_no_ind[i]\n",
    "  lst2 = df_ind[i]\n",
    "  shapiro_test = stats.shapiro(lst1) # тест шапиро-уилка\n",
    "  shapiro_test2 = stats.shapiro(lst2) # тест шапиро-уилка\n",
    "  if shapiro_test[1] < .05:\n",
    "    print('Данные {0} распределены ненормально,\\\n",
    "           p-value - {1}'.format(i,  shapiro_test[1]))\n",
    "  if shapiro_test2[1] < .05:\n",
    "    print('Данные {0} распределены ненормально,\\\n",
    "           p-value - {1}'.format(i,  shapiro_test2[1]))\n",
    "  else:\n",
    "    pass"
   ]
  },
  {
   "cell_type": "markdown",
   "id": "5fc63e3c",
   "metadata": {
    "id": "5fc63e3c"
   },
   "source": [
    "p-value не ниже 0.05, т.о мы  отвергаем нулевую гипотезу о нормальности распределения и будем работать с данными используя непараметрические стат.методы"
   ]
  },
  {
   "cell_type": "code",
   "execution_count": 10,
   "id": "556b735d",
   "metadata": {},
   "outputs": [],
   "source": [
    "def Basic_statistics(lst_1, lst_2):\n",
    "    \"\"\" \n",
    "    Функция \"Базовые статистики\"\n",
    "\n",
    "    На вход получает 2 списка данных для сравнения.\n",
    "    На выходе получаем p-values, при сравнении признаков. \n",
    "    В частности: показаны, не показаны антибиотики\n",
    "    \"\"\"\n",
    "    res_kw = kruskal(lst_1, lst_2)## краскела уолиса\n",
    "    anova = stats.f_oneway(lst_1, lst_2) #тест анова\n",
    "    return res_kw[1],  anova[1]"
   ]
  },
  {
   "cell_type": "code",
   "execution_count": 11,
   "id": "86466dab",
   "metadata": {
    "id": "86466dab",
    "outputId": "2e2c7d60-7038-468a-94a4-15e05e6125a8"
   },
   "outputs": [
    {
     "name": "stdout",
     "output_type": "stream",
     "text": [
      "Данные plt статисически значимо различаются в подгруппах,           p-value - 0.0, тест Крускала-Уоллиса\n",
      "Данные plt статисически значимо различаются в подгруппах,           p-value - 0.0, тест Анова\n",
      "Данные esr статисически значимо различаются в подгруппах,           p-value - 2.7536251235414657e-121, тест Крускала-Уоллиса\n",
      "Данные esr статисически значимо различаются в подгруппах,           p-value - 2.1921373115857108e-126, тест Анова\n",
      "Данные fibrinogen статисически значимо различаются в подгруппах,           p-value - 0.0, тест Крускала-Уоллиса\n",
      "Данные fibrinogen статисически значимо различаются в подгруппах,           p-value - 0.0, тест Анова\n",
      "Данные creatinine статисически значимо различаются в подгруппах,           p-value - 0.003026493786471801, тест Крускала-Уоллиса\n",
      "Данные creatinine статисически значимо различаются в подгруппах,           p-value - 0.0003838304871477176, тест Анова\n",
      "Данные wbc статисически значимо различаются в подгруппах,           p-value - 9.49496142847372e-224, тест Крускала-Уоллиса\n",
      "Данные wbc статисически значимо различаются в подгруппах,           p-value - 1.0511236917346988e-243, тест Анова\n",
      "Данные crp статисически значимо различаются в подгруппах,           p-value - 0.0, тест Крускала-Уоллиса\n",
      "Данные crp статисически значимо различаются в подгруппах,           p-value - 0.0, тест Анова\n",
      "Данные lymph статисически значимо различаются в подгруппах,           p-value - 0.0, тест Крускала-Уоллиса\n",
      "Данные lymph статисически значимо различаются в подгруппах,           p-value - 0.0, тест Анова\n"
     ]
    }
   ],
   "source": [
    "for col in columns:\n",
    "  lst1 = df_no_ind[col]\n",
    "  lst2 = df_ind[col]\n",
    "  kw =  Basic_statistics(lst1, lst2)[0]\n",
    "  an =  Basic_statistics(lst1, lst2)[1]\n",
    "  if kw < .05:\n",
    "    print('Данные {0} статисически значимо различаются в подгруппах,\\\n",
    "           p-value - {1}, тест Крускала-Уоллиса'.format(col,  kw))\n",
    "  if an < .05:\n",
    "    print('Данные {0} статисически значимо различаются в подгруппах,\\\n",
    "           p-value - {1}, тест Анова'.format(col,  an))\n",
    "  else:\n",
    "    pass\n"
   ]
  },
  {
   "cell_type": "markdown",
   "id": "5e3bdaba",
   "metadata": {
    "id": "5e3bdaba"
   },
   "source": [
    "#### Выводы:\n",
    "\n",
    "\n",
    "- 1.   В подгруппах есть  статистически значимые различия\n",
    "- 2.   На данном этапе есть оснований полагать, что есть некая закономерность в анализах у пациентов с показаниями к антибиотикотерапии "
   ]
  },
  {
   "cell_type": "code",
   "execution_count": 12,
   "id": "15b9b7e5",
   "metadata": {
    "id": "15b9b7e5",
    "outputId": "eef0d43c-e8a0-46aa-f039-dcb5189f1c92"
   },
   "outputs": [],
   "source": [
    "from sklearn.model_selection import train_test_split"
   ]
  },
  {
   "cell_type": "code",
   "execution_count": 13,
   "id": "d9e189ce",
   "metadata": {
    "id": "d9e189ce"
   },
   "outputs": [],
   "source": [
    "# разделяем набор данных на тренировочную, тестовую и валидационную части и нормализуем данные\n",
    "X = df.drop('ab_indication', axis=1)\n",
    "Y = df['ab_indication']\n",
    "X_train, X_test, Y_train, Y_test = train_test_split(X, Y,\n",
    "                                                    test_size = 0.20,\n",
    "                                                    stratify = Y,\n",
    "                                                    random_state = 42)\n",
    "X_train, X_val, Y_train, Y_val = train_test_split(X_train, Y_train,\n",
    "                                                  test_size = 0.20,\n",
    "                                                  stratify = Y_train,\n",
    "                                                  random_state = 42)"
   ]
  },
  {
   "cell_type": "markdown",
   "id": "a6d65959",
   "metadata": {},
   "source": [
    "# Домашнее занятие 4\n",
    "**Этап построения модели машинного обучения**\n",
    "\n",
    "---\n",
    "Стандартные шаги перед обучением (стандартизация/нормализаця), решение необходомости ресамплинга из-за дисбаланса данных, выбор параметров модели и бизнесс логика - ***ваше домашнее задание***\n"
   ]
  },
  {
   "cell_type": "markdown",
   "id": "IuI_V5AuNCcY",
   "metadata": {
    "id": "IuI_V5AuNCcY"
   },
   "source": [
    "# Бизнес логика\n",
    "\n",
    "Результат вашего исследования не всегда будет соответствовать вашим ожиданиям (гипотезе). Более того, чем амбициознее решаемая задача, тем менее вероятно, что вы получите то, что хотели. Однако, хотелось бы отметить, что важнейшим качеством специалиста по работе с данными является гибкость (способность адаптироваться под меняющиеся обстоятельства и находить неординарные решения)\n",
    "\n",
    "\n",
    "\n",
    "\n",
    "---\n",
    "\n",
    "\n",
    "Как пример из моей недавней практики:\n",
    "\n",
    "У департамента RWD фарм.компаниии, стояла задача предоставить для команды рекламщиков решения, для улучшения дистрибьюции препаратов.\n",
    "\n",
    "Этот запрос был делегирован нашей DS команде для формулировки идей / подходов.\n",
    "Выдвинутая гипотеза в предельно простом виде звучала следующим образом:  \n",
    "*можем ли мы предсказать будущих пользователей на основе клинических и других признаков пациентов?*\n",
    "\n",
    "После проведения подготовительных мероприятий, я преступил к построению датасета, модели, анализа метрик.\n",
    "Оказалось, что модель обладает хорошей чувствительностью, однако, низкой специфичностью, а целевые метрики были субоптимальными.\n",
    "Тогда возникла идея, трансформировать слабые стороны модели в преимущества и выдвинуть гипотезу 2: мы допускаем, что пациенты, имеющие ложноположительное предсказание могут иметь более высокую предрасположенность к тому, чтобы быть пользователями препарата, поэтому эта субпопуляция может являться таргетной группой для дополнительных маркетинговых воздействий.\n",
    "\n",
    "Идея изложена в предельно незавуалированном виде, но она очень понравилась заказчику и теперь модель используется в продакшне.\n"
   ]
  },
  {
   "cell_type": "markdown",
   "id": "56182ef5",
   "metadata": {
    "id": "1fa54482"
   },
   "source": [
    "# Пример решения NLP задачи из реальной практики (прототип)\n",
    "---\n",
    "Ранее мы использовали инструменты и подходы NLP для решения задач нашего локального исследования. \n",
    "> В домашнем задании №3, вы столкнулись с проблемой обозначения побочных эффектов в избранной онтологической системе. \n",
    "\n",
    "Давайте взглянем на вариант решения задачи, используя мощную библиотеку gensim, которая предоставляет возможность \"word embeddings\". Также, с моей стороны, было бы нечестно, задать вам ДЗ без объяснения вариантов решения продвинутых уровней :)"
   ]
  },
  {
   "cell_type": "code",
   "execution_count": 15,
   "id": "07ad5bc1",
   "metadata": {},
   "outputs": [
    {
     "name": "stdout",
     "output_type": "stream",
     "text": [
      "^C\n",
      "Note: you may need to restart the kernel to use updated packages.\n",
      "Defaulting to user installation because normal site-packages is not writeable\n",
      "Collecting spacy\n",
      "  Downloading spacy-3.8.4-cp310-cp310-win_amd64.whl (12.2 MB)\n",
      "Collecting wasabi<1.2.0,>=0.9.1\n",
      "  Downloading wasabi-1.1.3-py3-none-any.whl (27 kB)\n",
      "Requirement already satisfied: numpy>=1.19.0 in c:\\users\\annav\\appdata\\roaming\\python\\python310\\site-packages (from spacy) (2.2.3)\n",
      "Collecting preshed<3.1.0,>=3.0.2\n",
      "  Downloading preshed-3.0.9-cp310-cp310-win_amd64.whl (122 kB)\n",
      "Collecting pydantic!=1.8,!=1.8.1,<3.0.0,>=1.7.4\n",
      "  Downloading pydantic-2.10.6-py3-none-any.whl (431 kB)\n",
      "Collecting cymem<2.1.0,>=2.0.2\n",
      "  Downloading cymem-2.0.11-cp310-cp310-win_amd64.whl (39 kB)\n",
      "Collecting srsly<3.0.0,>=2.4.3\n",
      "  Downloading srsly-2.5.1-cp310-cp310-win_amd64.whl (632 kB)\n",
      "Requirement already satisfied: packaging>=20.0 in c:\\users\\annav\\appdata\\roaming\\python\\python310\\site-packages (from spacy) (24.2)\n",
      "Requirement already satisfied: setuptools in c:\\program files\\python310\\lib\\site-packages (from spacy) (57.4.0)\n",
      "Collecting spacy-legacy<3.1.0,>=3.0.11\n",
      "  Downloading spacy_legacy-3.0.12-py2.py3-none-any.whl (29 kB)\n",
      "Requirement already satisfied: requests<3.0.0,>=2.13.0 in c:\\users\\annav\\appdata\\roaming\\python\\python310\\site-packages (from spacy) (2.32.3)\n",
      "Requirement already satisfied: tqdm<5.0.0,>=4.38.0 in c:\\users\\annav\\appdata\\roaming\\python\\python310\\site-packages (from spacy) (4.67.1)\n",
      "Requirement already satisfied: jinja2 in c:\\users\\annav\\appdata\\roaming\\python\\python310\\site-packages (from spacy) (3.1.6)\n",
      "Collecting langcodes<4.0.0,>=3.2.0\n",
      "  Downloading langcodes-3.5.0-py3-none-any.whl (182 kB)\n",
      "Collecting typer<1.0.0,>=0.3.0\n",
      "  Downloading typer-0.15.2-py3-none-any.whl (45 kB)\n",
      "Collecting murmurhash<1.1.0,>=0.28.0\n",
      "  Downloading murmurhash-1.0.12-cp310-cp310-win_amd64.whl (25 kB)\n",
      "Collecting thinc<8.4.0,>=8.3.4\n",
      "  Downloading thinc-8.3.4-cp310-cp310-win_amd64.whl (1.5 MB)\n",
      "Collecting spacy-loggers<2.0.0,>=1.0.0\n",
      "  Downloading spacy_loggers-1.0.5-py3-none-any.whl (22 kB)\n",
      "Collecting catalogue<2.1.0,>=2.0.6\n",
      "  Downloading catalogue-2.0.10-py3-none-any.whl (17 kB)\n",
      "Collecting weasel<0.5.0,>=0.1.0\n",
      "  Downloading weasel-0.4.1-py3-none-any.whl (50 kB)\n",
      "Collecting language-data>=1.2\n",
      "  Downloading language_data-1.3.0-py3-none-any.whl (5.4 MB)\n",
      "Collecting marisa-trie>=1.1.0\n",
      "  Downloading marisa_trie-1.2.1-cp310-cp310-win_amd64.whl (151 kB)\n",
      "Collecting annotated-types>=0.6.0\n",
      "  Downloading annotated_types-0.7.0-py3-none-any.whl (13 kB)\n",
      "Requirement already satisfied: typing-extensions>=4.12.2 in c:\\users\\annav\\appdata\\roaming\\python\\python310\\site-packages (from pydantic!=1.8,!=1.8.1,<3.0.0,>=1.7.4->spacy) (4.12.2)\n",
      "Collecting pydantic-core==2.27.2\n",
      "  Downloading pydantic_core-2.27.2-cp310-cp310-win_amd64.whl (2.0 MB)\n",
      "Requirement already satisfied: charset-normalizer<4,>=2 in c:\\users\\annav\\appdata\\roaming\\python\\python310\\site-packages (from requests<3.0.0,>=2.13.0->spacy) (3.4.1)\n",
      "Requirement already satisfied: urllib3<3,>=1.21.1 in c:\\users\\annav\\appdata\\roaming\\python\\python310\\site-packages (from requests<3.0.0,>=2.13.0->spacy) (2.3.0)\n",
      "Requirement already satisfied: certifi>=2017.4.17 in c:\\users\\annav\\appdata\\roaming\\python\\python310\\site-packages (from requests<3.0.0,>=2.13.0->spacy) (2025.1.31)\n",
      "Requirement already satisfied: idna<4,>=2.5 in c:\\users\\annav\\appdata\\roaming\\python\\python310\\site-packages (from requests<3.0.0,>=2.13.0->spacy) (3.10)\n",
      "Collecting blis<1.3.0,>=1.2.0\n",
      "  Downloading blis-1.2.0-cp310-cp310-win_amd64.whl (6.2 MB)\n",
      "Collecting confection<1.0.0,>=0.0.1\n",
      "  Downloading confection-0.1.5-py3-none-any.whl (35 kB)\n",
      "Requirement already satisfied: colorama in c:\\users\\annav\\appdata\\roaming\\python\\python310\\site-packages (from tqdm<5.0.0,>=4.38.0->spacy) (0.4.6)\n",
      "Collecting rich>=10.11.0\n",
      "  Downloading rich-13.9.4-py3-none-any.whl (242 kB)\n",
      "Collecting shellingham>=1.3.0\n",
      "  Downloading shellingham-1.5.4-py2.py3-none-any.whl (9.8 kB)\n",
      "Requirement already satisfied: click>=8.0.0 in c:\\users\\annav\\appdata\\roaming\\python\\python310\\site-packages (from typer<1.0.0,>=0.3.0->spacy) (8.1.8)\n",
      "Requirement already satisfied: pygments<3.0.0,>=2.13.0 in c:\\users\\annav\\appdata\\roaming\\python\\python310\\site-packages (from rich>=10.11.0->typer<1.0.0,>=0.3.0->spacy) (2.19.1)\n",
      "Collecting markdown-it-py>=2.2.0\n",
      "  Downloading markdown_it_py-3.0.0-py3-none-any.whl (87 kB)\n",
      "Collecting mdurl~=0.1\n",
      "  Downloading mdurl-0.1.2-py3-none-any.whl (10.0 kB)\n",
      "Collecting smart-open<8.0.0,>=5.2.1\n",
      "  Downloading smart_open-7.1.0-py3-none-any.whl (61 kB)\n",
      "Collecting cloudpathlib<1.0.0,>=0.7.0\n",
      "  Downloading cloudpathlib-0.21.0-py3-none-any.whl (52 kB)\n",
      "Collecting wrapt\n",
      "  Downloading wrapt-1.17.2-cp310-cp310-win_amd64.whl (38 kB)\n",
      "Requirement already satisfied: MarkupSafe>=2.0 in c:\\users\\annav\\appdata\\roaming\\python\\python310\\site-packages (from jinja2->spacy) (3.0.2)\n",
      "Installing collected packages: mdurl, pydantic-core, markdown-it-py, catalogue, annotated-types, wrapt, srsly, shellingham, rich, pydantic, murmurhash, marisa-trie, cymem, wasabi, typer, smart-open, preshed, language-data, confection, cloudpathlib, blis, weasel, thinc, spacy-loggers, spacy-legacy, langcodes, spacy\n",
      "Successfully installed annotated-types-0.7.0 blis-1.2.0 catalogue-2.0.10 cloudpathlib-0.21.0 confection-0.1.5 cymem-2.0.11 langcodes-3.5.0 language-data-1.3.0 marisa-trie-1.2.1 markdown-it-py-3.0.0 mdurl-0.1.2 murmurhash-1.0.12 preshed-3.0.9 pydantic-2.10.6 pydantic-core-2.27.2 rich-13.9.4 shellingham-1.5.4 smart-open-7.1.0 spacy-3.8.4 spacy-legacy-3.0.12 spacy-loggers-1.0.5 srsly-2.5.1 thinc-8.3.4 typer-0.15.2 wasabi-1.1.3 weasel-0.4.1 wrapt-1.17.2\n"
     ]
    },
    {
     "name": "stderr",
     "output_type": "stream",
     "text": [
      "WARNING: You are using pip version 21.2.3; however, version 25.0.1 is available.\n",
      "You should consider upgrading via the 'c:\\Program Files\\Python310\\python.exe -m pip install --upgrade pip' command.\n"
     ]
    },
    {
     "name": "stdout",
     "output_type": "stream",
     "text": [
      "Note: you may need to restart the kernel to use updated packages.\n"
     ]
    },
    {
     "name": "stderr",
     "output_type": "stream",
     "text": [
      "ERROR: Could not install packages due to an OSError: [WinError 5] Access is denied: 'C:\\\\Users\\\\annav\\\\AppData\\\\Roaming\\\\Python\\\\Python310\\\\site-packages\\\\~umpy.libs\\\\libscipy_openblas64_-43e11ff0749b8cbe0a615c9cf6737e0e.dll'\n",
      "Check the permissions.\n",
      "\n",
      "WARNING: You are using pip version 21.2.3; however, version 25.0.1 is available.\n",
      "You should consider upgrading via the 'c:\\Program Files\\Python310\\python.exe -m pip install --upgrade pip' command.\n"
     ]
    },
    {
     "name": "stdout",
     "output_type": "stream",
     "text": [
      "Defaulting to user installation because normal site-packages is not writeable\n",
      "Collecting gensim\n",
      "  Downloading gensim-4.3.3-cp310-cp310-win_amd64.whl (24.0 MB)\n",
      "Collecting numpy<2.0,>=1.18.5\n",
      "  Downloading numpy-1.26.4-cp310-cp310-win_amd64.whl (15.8 MB)\n",
      "Requirement already satisfied: smart-open>=1.8.1 in c:\\users\\annav\\appdata\\roaming\\python\\python310\\site-packages (from gensim) (7.1.0)\n",
      "Collecting scipy<1.14.0,>=1.7.0\n",
      "  Downloading scipy-1.13.1-cp310-cp310-win_amd64.whl (46.2 MB)\n",
      "Requirement already satisfied: wrapt in c:\\users\\annav\\appdata\\roaming\\python\\python310\\site-packages (from smart-open>=1.8.1->gensim) (1.17.2)\n",
      "Installing collected packages: numpy, scipy, gensim\n",
      "  Attempting uninstall: numpy\n",
      "    Found existing installation: numpy 2.2.3\n",
      "    Uninstalling numpy-2.2.3:\n",
      "      Successfully uninstalled numpy-2.2.3\n",
      "Defaulting to user installation because normal site-packages is not writeable\n",
      "Note: you may need to restart the kernel to use updated packages.\n"
     ]
    },
    {
     "name": "stderr",
     "output_type": "stream",
     "text": [
      "ERROR: Could not find a version that satisfies the requirement time (from versions: none)\n",
      "ERROR: No matching distribution found for time\n",
      "WARNING: You are using pip version 21.2.3; however, version 25.0.1 is available.\n",
      "You should consider upgrading via the 'c:\\Program Files\\Python310\\python.exe -m pip install --upgrade pip' command.\n"
     ]
    },
    {
     "name": "stdout",
     "output_type": "stream",
     "text": [
      "Defaulting to user installation because normal site-packages is not writeable\n",
      "Note: you may need to restart the kernel to use updated packages.\n"
     ]
    },
    {
     "name": "stderr",
     "output_type": "stream",
     "text": [
      "ERROR: Could not find a version that satisfies the requirement re (from versions: none)\n",
      "ERROR: No matching distribution found for re\n",
      "WARNING: You are using pip version 21.2.3; however, version 25.0.1 is available.\n",
      "You should consider upgrading via the 'c:\\Program Files\\Python310\\python.exe -m pip install --upgrade pip' command.\n"
     ]
    }
   ],
   "source": [
    "%pip install spacy\n",
    "%pip install gensim\n",
    "%pip install time\n",
    "%pip install re"
   ]
  },
  {
   "cell_type": "code",
   "execution_count": 14,
   "id": "49d11a38",
   "metadata": {},
   "outputs": [],
   "source": [
    "import re\n",
    "import time\n",
    "import spacy\n",
    "import gensim\n",
    "from sklearn.metrics.pairwise import cosine_similarity"
   ]
  },
  {
   "cell_type": "code",
   "execution_count": 15,
   "id": "bad81547",
   "metadata": {},
   "outputs": [
    {
     "data": {
      "text/html": [
       "<div>\n",
       "<style scoped>\n",
       "    .dataframe tbody tr th:only-of-type {\n",
       "        vertical-align: middle;\n",
       "    }\n",
       "\n",
       "    .dataframe tbody tr th {\n",
       "        vertical-align: top;\n",
       "    }\n",
       "\n",
       "    .dataframe thead th {\n",
       "        text-align: right;\n",
       "    }\n",
       "</style>\n",
       "<table border=\"1\" class=\"dataframe\">\n",
       "  <thead>\n",
       "    <tr style=\"text-align: right;\">\n",
       "      <th></th>\n",
       "      <th>id</th>\n",
       "      <th>Text</th>\n",
       "    </tr>\n",
       "  </thead>\n",
       "  <tbody>\n",
       "    <tr>\n",
       "      <th>0</th>\n",
       "      <td>22</td>\n",
       "      <td>The vertigo is rendering me unable to function...</td>\n",
       "    </tr>\n",
       "    <tr>\n",
       "      <th>1</th>\n",
       "      <td>23</td>\n",
       "      <td>I am seeing a specialist for the vertigo and u...</td>\n",
       "    </tr>\n",
       "    <tr>\n",
       "      <th>2</th>\n",
       "      <td>24</td>\n",
       "      <td>My vertigo has not responded to conservative t...</td>\n",
       "    </tr>\n",
       "    <tr>\n",
       "      <th>3</th>\n",
       "      <td>25</td>\n",
       "      <td>Muscle spasms, muscle twitching, muscle sorene...</td>\n",
       "    </tr>\n",
       "    <tr>\n",
       "      <th>4</th>\n",
       "      <td>26</td>\n",
       "      <td>I took Lexapro for 3 days in 10mg doses and ha...</td>\n",
       "    </tr>\n",
       "  </tbody>\n",
       "</table>\n",
       "</div>"
      ],
      "text/plain": [
       "   id                                               Text\n",
       "0  22  The vertigo is rendering me unable to function...\n",
       "1  23  I am seeing a specialist for the vertigo and u...\n",
       "2  24  My vertigo has not responded to conservative t...\n",
       "3  25  Muscle spasms, muscle twitching, muscle sorene...\n",
       "4  26  I took Lexapro for 3 days in 10mg doses and ha..."
      ]
     },
     "execution_count": 15,
     "metadata": {},
     "output_type": "execute_result"
    }
   ],
   "source": [
    "# прочитаем наши датасеты, где таргет_вокаб - это то, к чему мы хотим превести, а ту_мап - что мы хотим перевести\n",
    "adverse_effects = pd.read_csv(r'C:\\Users\\annav\\OneDrive\\Desktop\\NaturalLanguageProcessing_tests\\hw4_nlp\\to_find', sep = '|')\n",
    "CUIs = pd.read_csv(r'C:\\Users\\annav\\OneDrive\\Desktop\\NaturalLanguageProcessing_tests\\hw4_nlp\\lesson4_CIUconcept.tsv', sep = '\\t')\n",
    "adverse_effects.head()"
   ]
  },
  {
   "cell_type": "code",
   "execution_count": 16,
   "id": "570c37da",
   "metadata": {},
   "outputs": [
    {
     "data": {
      "text/html": [
       "<div>\n",
       "<style scoped>\n",
       "    .dataframe tbody tr th:only-of-type {\n",
       "        vertical-align: middle;\n",
       "    }\n",
       "\n",
       "    .dataframe tbody tr th {\n",
       "        vertical-align: top;\n",
       "    }\n",
       "\n",
       "    .dataframe thead th {\n",
       "        text-align: right;\n",
       "    }\n",
       "</style>\n",
       "<table border=\"1\" class=\"dataframe\">\n",
       "  <thead>\n",
       "    <tr style=\"text-align: right;\">\n",
       "      <th></th>\n",
       "      <th>CUI</th>\n",
       "      <th>CONCEPT</th>\n",
       "      <th>SNOMED_CODE</th>\n",
       "    </tr>\n",
       "  </thead>\n",
       "  <tbody>\n",
       "    <tr>\n",
       "      <th>0</th>\n",
       "      <td>C0000765</td>\n",
       "      <td>Excessive body weight gain,Excessive weight gain</td>\n",
       "      <td>224994002</td>\n",
       "    </tr>\n",
       "    <tr>\n",
       "      <th>1</th>\n",
       "      <td>C0701811</td>\n",
       "      <td>Poor short-term memory,Poor short-term memory</td>\n",
       "      <td>247592009</td>\n",
       "    </tr>\n",
       "    <tr>\n",
       "      <th>2</th>\n",
       "      <td>C0002170</td>\n",
       "      <td>Alopecia,Loss of hair</td>\n",
       "      <td>278040002</td>\n",
       "    </tr>\n",
       "    <tr>\n",
       "      <th>3</th>\n",
       "      <td>C0549622</td>\n",
       "      <td>Sexual Dysfunction,Sexual disorder</td>\n",
       "      <td>231532002</td>\n",
       "    </tr>\n",
       "    <tr>\n",
       "      <th>4</th>\n",
       "      <td>C0027497</td>\n",
       "      <td>Nausea,Nausea</td>\n",
       "      <td>422587007</td>\n",
       "    </tr>\n",
       "  </tbody>\n",
       "</table>\n",
       "</div>"
      ],
      "text/plain": [
       "         CUI                                           CONCEPT SNOMED_CODE\n",
       "0  C0000765   Excessive body weight gain,Excessive weight gain   224994002\n",
       "1  C0701811      Poor short-term memory,Poor short-term memory   247592009\n",
       "2  C0002170                              Alopecia,Loss of hair   278040002\n",
       "3  C0549622                 Sexual Dysfunction,Sexual disorder   231532002\n",
       "4  C0027497                                      Nausea,Nausea   422587007"
      ]
     },
     "execution_count": 16,
     "metadata": {},
     "output_type": "execute_result"
    }
   ],
   "source": [
    "CUIs.head()"
   ]
  },
  {
   "cell_type": "code",
   "execution_count": 18,
   "id": "bcd6c71e",
   "metadata": {},
   "outputs": [
    {
     "name": "stdout",
     "output_type": "stream",
     "text": [
      "Note: you may need to restart the kernel to use updated packages.\n"
     ]
    },
    {
     "name": "stderr",
     "output_type": "stream",
     "text": [
      "WARNING: Package(s) not found: en_core_sci_lg\n"
     ]
    }
   ],
   "source": [
    "%pip show en_core_sci_lg"
   ]
  },
  {
   "cell_type": "code",
   "execution_count": 31,
   "id": "d67dd59d",
   "metadata": {},
   "outputs": [
    {
     "name": "stdout",
     "output_type": "stream",
     "text": [
      "Defaulting to user installation because normal site-packages is not writeable\n",
      "Collecting https://s3-us-west-2.amazonaws.com/ai2-s2-scispacy/releases/v0.5.1/en_core_sci_lg-0.5.1.tar.gz\n",
      "  Using cached https://s3-us-west-2.amazonaws.com/ai2-s2-scispacy/releases/v0.5.1/en_core_sci_lg-0.5.1.tar.gz (532.3 MB)\n",
      "Requirement already satisfied: spacy<3.5.0,>=3.4.1 in c:\\users\\annav\\appdata\\roaming\\python\\python310\\site-packages (from en-core-sci-lg==0.5.1) (3.4.4)\n",
      "Requirement already satisfied: pathy>=0.3.5 in c:\\users\\annav\\appdata\\roaming\\python\\python310\\site-packages (from spacy<3.5.0,>=3.4.1->en-core-sci-lg==0.5.1) (0.11.0)\n",
      "Requirement already satisfied: smart-open<7.0.0,>=5.2.1 in c:\\users\\annav\\appdata\\roaming\\python\\python310\\site-packages (from spacy<3.5.0,>=3.4.1->en-core-sci-lg==0.5.1) (6.4.0)\n",
      "Requirement already satisfied: numpy>=1.15.0 in c:\\users\\annav\\appdata\\roaming\\python\\python310\\site-packages (from spacy<3.5.0,>=3.4.1->en-core-sci-lg==0.5.1) (1.26.4)\n",
      "Requirement already satisfied: preshed<3.1.0,>=3.0.2 in c:\\users\\annav\\appdata\\roaming\\python\\python310\\site-packages (from spacy<3.5.0,>=3.4.1->en-core-sci-lg==0.5.1) (3.0.9)\n",
      "Requirement already satisfied: langcodes<4.0.0,>=3.2.0 in c:\\users\\annav\\appdata\\roaming\\python\\python310\\site-packages (from spacy<3.5.0,>=3.4.1->en-core-sci-lg==0.5.1) (3.5.0)\n",
      "Requirement already satisfied: catalogue<2.1.0,>=2.0.6 in c:\\users\\annav\\appdata\\roaming\\python\\python310\\site-packages (from spacy<3.5.0,>=3.4.1->en-core-sci-lg==0.5.1) (2.0.10)\n",
      "Requirement already satisfied: spacy-loggers<2.0.0,>=1.0.0 in c:\\users\\annav\\appdata\\roaming\\python\\python310\\site-packages (from spacy<3.5.0,>=3.4.1->en-core-sci-lg==0.5.1) (1.0.5)\n",
      "Requirement already satisfied: wasabi<1.1.0,>=0.9.1 in c:\\users\\annav\\appdata\\roaming\\python\\python310\\site-packages (from spacy<3.5.0,>=3.4.1->en-core-sci-lg==0.5.1) (0.10.1)\n",
      "Requirement already satisfied: tqdm<5.0.0,>=4.38.0 in c:\\users\\annav\\appdata\\roaming\\python\\python310\\site-packages (from spacy<3.5.0,>=3.4.1->en-core-sci-lg==0.5.1) (4.67.1)\n",
      "Requirement already satisfied: setuptools in c:\\program files\\python310\\lib\\site-packages (from spacy<3.5.0,>=3.4.1->en-core-sci-lg==0.5.1) (57.4.0)\n",
      "Requirement already satisfied: typer<0.8.0,>=0.3.0 in c:\\users\\annav\\appdata\\roaming\\python\\python310\\site-packages (from spacy<3.5.0,>=3.4.1->en-core-sci-lg==0.5.1) (0.7.0)\n",
      "Requirement already satisfied: pydantic!=1.8,!=1.8.1,<1.11.0,>=1.7.4 in c:\\users\\annav\\appdata\\roaming\\python\\python310\\site-packages (from spacy<3.5.0,>=3.4.1->en-core-sci-lg==0.5.1) (1.10.21)\n",
      "Requirement already satisfied: requests<3.0.0,>=2.13.0 in c:\\users\\annav\\appdata\\roaming\\python\\python310\\site-packages (from spacy<3.5.0,>=3.4.1->en-core-sci-lg==0.5.1) (2.32.3)\n",
      "Requirement already satisfied: spacy-legacy<3.1.0,>=3.0.10 in c:\\users\\annav\\appdata\\roaming\\python\\python310\\site-packages (from spacy<3.5.0,>=3.4.1->en-core-sci-lg==0.5.1) (3.0.12)\n",
      "Requirement already satisfied: thinc<8.2.0,>=8.1.0 in c:\\users\\annav\\appdata\\roaming\\python\\python310\\site-packages (from spacy<3.5.0,>=3.4.1->en-core-sci-lg==0.5.1) (8.1.12)\n",
      "Requirement already satisfied: cymem<2.1.0,>=2.0.2 in c:\\users\\annav\\appdata\\roaming\\python\\python310\\site-packages (from spacy<3.5.0,>=3.4.1->en-core-sci-lg==0.5.1) (2.0.11)\n",
      "Requirement already satisfied: srsly<3.0.0,>=2.4.3 in c:\\users\\annav\\appdata\\roaming\\python\\python310\\site-packages (from spacy<3.5.0,>=3.4.1->en-core-sci-lg==0.5.1) (2.5.1)\n",
      "Requirement already satisfied: packaging>=20.0 in c:\\users\\annav\\appdata\\roaming\\python\\python310\\site-packages (from spacy<3.5.0,>=3.4.1->en-core-sci-lg==0.5.1) (24.2)\n",
      "Requirement already satisfied: murmurhash<1.1.0,>=0.28.0 in c:\\users\\annav\\appdata\\roaming\\python\\python310\\site-packages (from spacy<3.5.0,>=3.4.1->en-core-sci-lg==0.5.1) (1.0.12)\n",
      "Requirement already satisfied: jinja2 in c:\\users\\annav\\appdata\\roaming\\python\\python310\\site-packages (from spacy<3.5.0,>=3.4.1->en-core-sci-lg==0.5.1) (3.1.6)\n",
      "Requirement already satisfied: language-data>=1.2 in c:\\users\\annav\\appdata\\roaming\\python\\python310\\site-packages (from langcodes<4.0.0,>=3.2.0->spacy<3.5.0,>=3.4.1->en-core-sci-lg==0.5.1) (1.3.0)\n",
      "Requirement already satisfied: marisa-trie>=1.1.0 in c:\\users\\annav\\appdata\\roaming\\python\\python310\\site-packages (from language-data>=1.2->langcodes<4.0.0,>=3.2.0->spacy<3.5.0,>=3.4.1->en-core-sci-lg==0.5.1) (1.2.1)\n",
      "Requirement already satisfied: pathlib-abc==0.1.1 in c:\\users\\annav\\appdata\\roaming\\python\\python310\\site-packages (from pathy>=0.3.5->spacy<3.5.0,>=3.4.1->en-core-sci-lg==0.5.1) (0.1.1)\n",
      "Requirement already satisfied: typing-extensions>=4.2.0 in c:\\users\\annav\\appdata\\roaming\\python\\python310\\site-packages (from pydantic!=1.8,!=1.8.1,<1.11.0,>=1.7.4->spacy<3.5.0,>=3.4.1->en-core-sci-lg==0.5.1) (4.12.2)\n",
      "Requirement already satisfied: idna<4,>=2.5 in c:\\users\\annav\\appdata\\roaming\\python\\python310\\site-packages (from requests<3.0.0,>=2.13.0->spacy<3.5.0,>=3.4.1->en-core-sci-lg==0.5.1) (3.10)\n",
      "Requirement already satisfied: urllib3<3,>=1.21.1 in c:\\users\\annav\\appdata\\roaming\\python\\python310\\site-packages (from requests<3.0.0,>=2.13.0->spacy<3.5.0,>=3.4.1->en-core-sci-lg==0.5.1) (2.3.0)\n",
      "Requirement already satisfied: certifi>=2017.4.17 in c:\\users\\annav\\appdata\\roaming\\python\\python310\\site-packages (from requests<3.0.0,>=2.13.0->spacy<3.5.0,>=3.4.1->en-core-sci-lg==0.5.1) (2025.1.31)\n",
      "Requirement already satisfied: charset-normalizer<4,>=2 in c:\\users\\annav\\appdata\\roaming\\python\\python310\\site-packages (from requests<3.0.0,>=2.13.0->spacy<3.5.0,>=3.4.1->en-core-sci-lg==0.5.1) (3.4.1)\n",
      "Requirement already satisfied: confection<1.0.0,>=0.0.1 in c:\\users\\annav\\appdata\\roaming\\python\\python310\\site-packages (from thinc<8.2.0,>=8.1.0->spacy<3.5.0,>=3.4.1->en-core-sci-lg==0.5.1) (0.1.5)\n",
      "Requirement already satisfied: blis<0.8.0,>=0.7.8 in c:\\users\\annav\\appdata\\roaming\\python\\python310\\site-packages (from thinc<8.2.0,>=8.1.0->spacy<3.5.0,>=3.4.1->en-core-sci-lg==0.5.1) (0.7.11)\n",
      "Requirement already satisfied: colorama in c:\\users\\annav\\appdata\\roaming\\python\\python310\\site-packages (from tqdm<5.0.0,>=4.38.0->spacy<3.5.0,>=3.4.1->en-core-sci-lg==0.5.1) (0.4.6)\n",
      "Requirement already satisfied: click<9.0.0,>=7.1.1 in c:\\users\\annav\\appdata\\roaming\\python\\python310\\site-packages (from typer<0.8.0,>=0.3.0->spacy<3.5.0,>=3.4.1->en-core-sci-lg==0.5.1) (8.1.8)\n",
      "Requirement already satisfied: MarkupSafe>=2.0 in c:\\users\\annav\\appdata\\roaming\\python\\python310\\site-packages (from jinja2->spacy<3.5.0,>=3.4.1->en-core-sci-lg==0.5.1) (3.0.2)\n",
      "Using legacy 'setup.py install' for en-core-sci-lg, since package 'wheel' is not installed.\n",
      "Installing collected packages: en-core-sci-lg\n",
      "    Running setup.py install for en-core-sci-lg: started\n",
      "    Running setup.py install for en-core-sci-lg: finished with status 'done'\n",
      "Successfully installed en-core-sci-lg-0.5.1\n",
      "Note: you may need to restart the kernel to use updated packages.\n"
     ]
    },
    {
     "name": "stderr",
     "output_type": "stream",
     "text": [
      "WARNING: You are using pip version 21.2.3; however, version 25.0.1 is available.\n",
      "You should consider upgrading via the 'c:\\Program Files\\Python310\\python.exe -m pip install --upgrade pip' command.\n"
     ]
    }
   ],
   "source": [
    "# скачать, если не установлено\n",
    "%pip install https://s3-us-west-2.amazonaws.com/ai2-s2-scispacy/releases/v0.5.1/en_core_sci_lg-0.5.1.tar.gz"
   ]
  },
  {
   "cell_type": "code",
   "execution_count": 28,
   "id": "eb45822d",
   "metadata": {},
   "outputs": [
    {
     "name": "stdout",
     "output_type": "stream",
     "text": [
      "Defaulting to user installation because normal site-packages is not writeable\n",
      "Collecting https://s3-us-west-2.amazonaws.com/ai2-s2-scispacy/releases/v0.5.1/en_core_sci_lg-0.5.1.tar.gz\n",
      "  Using cached https://s3-us-west-2.amazonaws.com/ai2-s2-scispacy/releases/v0.5.1/en_core_sci_lg-0.5.1.tar.gz (532.3 MB)\n",
      "Collecting spacy<3.5.0,>=3.4.1\n",
      "  Using cached spacy-3.4.4-cp310-cp310-win_amd64.whl (11.9 MB)\n",
      "Requirement already satisfied: cymem<2.1.0,>=2.0.2 in c:\\users\\annav\\appdata\\roaming\\python\\python310\\site-packages (from spacy<3.5.0,>=3.4.1->en-core-sci-lg==0.5.1) (2.0.11)\n",
      "Requirement already satisfied: requests<3.0.0,>=2.13.0 in c:\\users\\annav\\appdata\\roaming\\python\\python310\\site-packages (from spacy<3.5.0,>=3.4.1->en-core-sci-lg==0.5.1) (2.32.3)\n",
      "Requirement already satisfied: packaging>=20.0 in c:\\users\\annav\\appdata\\roaming\\python\\python310\\site-packages (from spacy<3.5.0,>=3.4.1->en-core-sci-lg==0.5.1) (24.2)\n",
      "Requirement already satisfied: typer<0.8.0,>=0.3.0 in c:\\users\\annav\\appdata\\roaming\\python\\python310\\site-packages (from spacy<3.5.0,>=3.4.1->en-core-sci-lg==0.5.1) (0.7.0)\n",
      "Requirement already satisfied: numpy>=1.15.0 in c:\\users\\annav\\appdata\\roaming\\python\\python310\\site-packages (from spacy<3.5.0,>=3.4.1->en-core-sci-lg==0.5.1) (1.26.4)\n",
      "Requirement already satisfied: tqdm<5.0.0,>=4.38.0 in c:\\users\\annav\\appdata\\roaming\\python\\python310\\site-packages (from spacy<3.5.0,>=3.4.1->en-core-sci-lg==0.5.1) (4.67.1)\n",
      "Requirement already satisfied: smart-open<7.0.0,>=5.2.1 in c:\\users\\annav\\appdata\\roaming\\python\\python310\\site-packages (from spacy<3.5.0,>=3.4.1->en-core-sci-lg==0.5.1) (6.4.0)\n",
      "Requirement already satisfied: catalogue<2.1.0,>=2.0.6 in c:\\users\\annav\\appdata\\roaming\\python\\python310\\site-packages (from spacy<3.5.0,>=3.4.1->en-core-sci-lg==0.5.1) (2.0.10)\n",
      "Requirement already satisfied: pydantic!=1.8,!=1.8.1,<1.11.0,>=1.7.4 in c:\\users\\annav\\appdata\\roaming\\python\\python310\\site-packages (from spacy<3.5.0,>=3.4.1->en-core-sci-lg==0.5.1) (1.10.21)\n",
      "Requirement already satisfied: spacy-legacy<3.1.0,>=3.0.10 in c:\\users\\annav\\appdata\\roaming\\python\\python310\\site-packages (from spacy<3.5.0,>=3.4.1->en-core-sci-lg==0.5.1) (3.0.12)\n",
      "Requirement already satisfied: preshed<3.1.0,>=3.0.2 in c:\\users\\annav\\appdata\\roaming\\python\\python310\\site-packages (from spacy<3.5.0,>=3.4.1->en-core-sci-lg==0.5.1) (3.0.9)\n",
      "Requirement already satisfied: thinc<8.2.0,>=8.1.0 in c:\\users\\annav\\appdata\\roaming\\python\\python310\\site-packages (from spacy<3.5.0,>=3.4.1->en-core-sci-lg==0.5.1) (8.1.12)\n",
      "Requirement already satisfied: langcodes<4.0.0,>=3.2.0 in c:\\users\\annav\\appdata\\roaming\\python\\python310\\site-packages (from spacy<3.5.0,>=3.4.1->en-core-sci-lg==0.5.1) (3.5.0)\n",
      "Requirement already satisfied: jinja2 in c:\\users\\annav\\appdata\\roaming\\python\\python310\\site-packages (from spacy<3.5.0,>=3.4.1->en-core-sci-lg==0.5.1) (3.1.6)\n",
      "Requirement already satisfied: murmurhash<1.1.0,>=0.28.0 in c:\\users\\annav\\appdata\\roaming\\python\\python310\\site-packages (from spacy<3.5.0,>=3.4.1->en-core-sci-lg==0.5.1) (1.0.12)\n",
      "Requirement already satisfied: srsly<3.0.0,>=2.4.3 in c:\\users\\annav\\appdata\\roaming\\python\\python310\\site-packages (from spacy<3.5.0,>=3.4.1->en-core-sci-lg==0.5.1) (2.5.1)\n",
      "Requirement already satisfied: wasabi<1.1.0,>=0.9.1 in c:\\users\\annav\\appdata\\roaming\\python\\python310\\site-packages (from spacy<3.5.0,>=3.4.1->en-core-sci-lg==0.5.1) (0.10.1)\n",
      "Requirement already satisfied: setuptools in c:\\program files\\python310\\lib\\site-packages (from spacy<3.5.0,>=3.4.1->en-core-sci-lg==0.5.1) (57.4.0)\n",
      "Collecting pathy>=0.3.5\n",
      "  Using cached pathy-0.11.0-py3-none-any.whl (47 kB)\n",
      "Requirement already satisfied: spacy-loggers<2.0.0,>=1.0.0 in c:\\users\\annav\\appdata\\roaming\\python\\python310\\site-packages (from spacy<3.5.0,>=3.4.1->en-core-sci-lg==0.5.1) (1.0.5)\n",
      "Requirement already satisfied: language-data>=1.2 in c:\\users\\annav\\appdata\\roaming\\python\\python310\\site-packages (from langcodes<4.0.0,>=3.2.0->spacy<3.5.0,>=3.4.1->en-core-sci-lg==0.5.1) (1.3.0)\n",
      "Requirement already satisfied: marisa-trie>=1.1.0 in c:\\users\\annav\\appdata\\roaming\\python\\python310\\site-packages (from language-data>=1.2->langcodes<4.0.0,>=3.2.0->spacy<3.5.0,>=3.4.1->en-core-sci-lg==0.5.1) (1.2.1)\n",
      "Requirement already satisfied: pathlib-abc==0.1.1 in c:\\users\\annav\\appdata\\roaming\\python\\python310\\site-packages (from pathy>=0.3.5->spacy<3.5.0,>=3.4.1->en-core-sci-lg==0.5.1) (0.1.1)\n",
      "Requirement already satisfied: typing-extensions>=4.2.0 in c:\\users\\annav\\appdata\\roaming\\python\\python310\\site-packages (from pydantic!=1.8,!=1.8.1,<1.11.0,>=1.7.4->spacy<3.5.0,>=3.4.1->en-core-sci-lg==0.5.1) (4.12.2)\n",
      "Requirement already satisfied: idna<4,>=2.5 in c:\\users\\annav\\appdata\\roaming\\python\\python310\\site-packages (from requests<3.0.0,>=2.13.0->spacy<3.5.0,>=3.4.1->en-core-sci-lg==0.5.1) (3.10)\n",
      "Requirement already satisfied: charset-normalizer<4,>=2 in c:\\users\\annav\\appdata\\roaming\\python\\python310\\site-packages (from requests<3.0.0,>=2.13.0->spacy<3.5.0,>=3.4.1->en-core-sci-lg==0.5.1) (3.4.1)\n",
      "Requirement already satisfied: certifi>=2017.4.17 in c:\\users\\annav\\appdata\\roaming\\python\\python310\\site-packages (from requests<3.0.0,>=2.13.0->spacy<3.5.0,>=3.4.1->en-core-sci-lg==0.5.1) (2025.1.31)\n",
      "Requirement already satisfied: urllib3<3,>=1.21.1 in c:\\users\\annav\\appdata\\roaming\\python\\python310\\site-packages (from requests<3.0.0,>=2.13.0->spacy<3.5.0,>=3.4.1->en-core-sci-lg==0.5.1) (2.3.0)\n",
      "Requirement already satisfied: blis<0.8.0,>=0.7.8 in c:\\users\\annav\\appdata\\roaming\\python\\python310\\site-packages (from thinc<8.2.0,>=8.1.0->spacy<3.5.0,>=3.4.1->en-core-sci-lg==0.5.1) (0.7.11)\n",
      "Requirement already satisfied: confection<1.0.0,>=0.0.1 in c:\\users\\annav\\appdata\\roaming\\python\\python310\\site-packages (from thinc<8.2.0,>=8.1.0->spacy<3.5.0,>=3.4.1->en-core-sci-lg==0.5.1) (0.1.5)\n",
      "Requirement already satisfied: colorama in c:\\users\\annav\\appdata\\roaming\\python\\python310\\site-packages (from tqdm<5.0.0,>=4.38.0->spacy<3.5.0,>=3.4.1->en-core-sci-lg==0.5.1) (0.4.6)\n",
      "Requirement already satisfied: click<9.0.0,>=7.1.1 in c:\\users\\annav\\appdata\\roaming\\python\\python310\\site-packages (from typer<0.8.0,>=0.3.0->spacy<3.5.0,>=3.4.1->en-core-sci-lg==0.5.1) (8.1.8)\n",
      "Requirement already satisfied: MarkupSafe>=2.0 in c:\\users\\annav\\appdata\\roaming\\python\\python310\\site-packages (from jinja2->spacy<3.5.0,>=3.4.1->en-core-sci-lg==0.5.1) (3.0.2)\n",
      "Using legacy 'setup.py install' for en-core-sci-lg, since package 'wheel' is not installed.\n",
      "Installing collected packages: pathy, spacy, en-core-sci-lg\n",
      "  Attempting uninstall: spacy\n",
      "    Found existing installation: spacy 3.8.4\n",
      "    Uninstalling spacy-3.8.4:\n",
      "      Successfully uninstalled spacy-3.8.4\n",
      "Note: you may need to restart the kernel to use updated packages.\n"
     ]
    },
    {
     "name": "stderr",
     "output_type": "stream",
     "text": [
      "ERROR: Could not install packages due to an OSError: [WinError 5] Access is denied: 'C:\\\\Users\\\\annav\\\\AppData\\\\Roaming\\\\Python\\\\Python310\\\\site-packages\\\\~pacy\\\\attrs.cp310-win_amd64.pyd'\n",
      "Check the permissions.\n",
      "\n",
      "WARNING: You are using pip version 21.2.3; however, version 25.0.1 is available.\n",
      "You should consider upgrading via the 'c:\\Program Files\\Python310\\python.exe -m pip install --upgrade pip' command.\n"
     ]
    }
   ],
   "source": [
    "%pip install https://s3-us-west-2.amazonaws.com/ai2-s2-scispacy/releases/v0.5.1/en_core_sci_lg-0.5.1.tar.gz"
   ]
  },
  {
   "cell_type": "code",
   "execution_count": 33,
   "id": "48c456b5",
   "metadata": {},
   "outputs": [],
   "source": [
    "# Загрузка модели для английского языка\n",
    "nlp = spacy.load(\"en_core_sci_lg\")"
   ]
  },
  {
   "cell_type": "code",
   "execution_count": 35,
   "id": "20606351",
   "metadata": {},
   "outputs": [],
   "source": [
    "stop_words = ['noc', 'nos', '[d]', 'unknown_unit', '|', 'see comment', 'due', 'nec', 'unspecified', '[v]', '(see comments)']\n",
    "# убрать ненужные слова (если, конечно, они вообще есть)\n",
    "adverse_effects['adv_name_processed'] = adverse_effects['Text'].apply(lambda x: re.sub(r\"\\s+\", \" \", str(x).encode('ascii', 'ignore').decode()) if isinstance(x, str) else str(x))\n",
    "CUIs['concept_name_processed'] = CUIs['CONCEPT'].apply(lambda x: re.sub(r\"\\s+\", \" \", str(x.encode('ascii', 'ignore').decode())))"
   ]
  },
  {
   "cell_type": "code",
   "execution_count": 36,
   "id": "35c5fac0",
   "metadata": {},
   "outputs": [],
   "source": [
    "# убрать пунктуацию, символы\n",
    "adverse_effects['adv_name_processed'] = adverse_effects['adv_name_processed'].map(lambda x: re.sub('[,\\.!;?)%(\\'\\\":\\-]', '', x))\n",
    "CUIs['concept_name_processed'] = CUIs['concept_name_processed'].map(lambda x: re.sub('[,\\.!;?)%(\\'\\\":\\-]', '', x))"
   ]
  },
  {
   "cell_type": "code",
   "execution_count": 37,
   "id": "f13d864f",
   "metadata": {},
   "outputs": [],
   "source": [
    "# из верхнего регистра переведём всё в нижний\n",
    "adverse_effects['adv_name_processed'] = adverse_effects['adv_name_processed'].map(lambda x: x.lower())\n",
    "CUIs['concept_name_processed'] = CUIs['concept_name_processed'].map(lambda x: x.lower())"
   ]
  },
  {
   "cell_type": "code",
   "execution_count": 38,
   "id": "12e6df57",
   "metadata": {},
   "outputs": [],
   "source": [
    "# уберём стоп слова\n",
    "adverse_effects['adv_name_processed'] = adverse_effects['adv_name_processed'].apply(lambda x: ' '.join([word for word in x.split() if word not in (stop_words)]))\n",
    "CUIs['concept_name_processed'] = CUIs['concept_name_processed'].apply(lambda x: ' '.join([word for word in x.split() if word not in (stop_words)]))"
   ]
  },
  {
   "cell_type": "code",
   "execution_count": 39,
   "id": "b57c81b5",
   "metadata": {},
   "outputs": [],
   "source": [
    "def tokenize(text):\n",
    "    doc = nlp(text)\n",
    "    tokens = [token.text for token in doc if not token.is_punct and not token.is_space]\n",
    "    return tokens"
   ]
  },
  {
   "cell_type": "code",
   "execution_count": 40,
   "id": "f0cb9be8",
   "metadata": {},
   "outputs": [
    {
     "name": "stdout",
     "output_type": "stream",
     "text": [
      "Затраченное время: 0.1 секунд(ы)\n"
     ]
    }
   ],
   "source": [
    "start_time = time.time()\n",
    "\n",
    "adverse_effects['adv_name_processed'] = adverse_effects['adv_name_processed'].apply(tokenize)\n",
    "CUIs['concept_name_processed'] = CUIs['concept_name_processed'].apply(tokenize)\n",
    "\n",
    "elapsed_time = (time.time() - start_time)/60\n",
    "print(f\"Затраченное время: {elapsed_time:.1f} секунд(ы)\")"
   ]
  },
  {
   "cell_type": "code",
   "execution_count": 41,
   "id": "7793e311",
   "metadata": {},
   "outputs": [],
   "source": [
    "def lemmatize(text):\n",
    "    doc = nlp(text)\n",
    "    lemmatized_tokens = [token.lemma_ for token in doc]\n",
    "    return lemmatized_tokens"
   ]
  },
  {
   "cell_type": "code",
   "execution_count": 42,
   "id": "d3e80104",
   "metadata": {},
   "outputs": [
    {
     "name": "stdout",
     "output_type": "stream",
     "text": [
      "Затраченное время: 0.0 секунд(ы)\n"
     ]
    }
   ],
   "source": [
    "start_time = time.time()\n",
    "# Применение функции к вашему столбцу\n",
    "adverse_effects['adv_name_processed'] = adverse_effects['adv_name_processed'].apply(lambda x: lemmatize(' '.join(x)))\n",
    "CUIs['concept_name_processed'] = CUIs['concept_name_processed'].apply(lambda x: lemmatize(' '.join(x)))\n",
    "elapsed_time = (time.time() - start_time)/60\n",
    "print(f\"Затраченное время: {elapsed_time:.1f} секунд(ы)\")"
   ]
  },
  {
   "cell_type": "code",
   "execution_count": 43,
   "id": "201aa4d3",
   "metadata": {},
   "outputs": [
    {
     "data": {
      "text/html": [
       "<div>\n",
       "<style scoped>\n",
       "    .dataframe tbody tr th:only-of-type {\n",
       "        vertical-align: middle;\n",
       "    }\n",
       "\n",
       "    .dataframe tbody tr th {\n",
       "        vertical-align: top;\n",
       "    }\n",
       "\n",
       "    .dataframe thead th {\n",
       "        text-align: right;\n",
       "    }\n",
       "</style>\n",
       "<table border=\"1\" class=\"dataframe\">\n",
       "  <thead>\n",
       "    <tr style=\"text-align: right;\">\n",
       "      <th></th>\n",
       "      <th>id</th>\n",
       "      <th>Text</th>\n",
       "      <th>adv_name_processed</th>\n",
       "    </tr>\n",
       "  </thead>\n",
       "  <tbody>\n",
       "    <tr>\n",
       "      <th>0</th>\n",
       "      <td>22</td>\n",
       "      <td>The vertigo is rendering me unable to function...</td>\n",
       "      <td>[the, vertigo, be, render, I, unable, to, func...</td>\n",
       "    </tr>\n",
       "    <tr>\n",
       "      <th>1</th>\n",
       "      <td>23</td>\n",
       "      <td>I am seeing a specialist for the vertigo and u...</td>\n",
       "      <td>[I, be, see, a, specialist, for, the, vertigo,...</td>\n",
       "    </tr>\n",
       "    <tr>\n",
       "      <th>2</th>\n",
       "      <td>24</td>\n",
       "      <td>My vertigo has not responded to conservative t...</td>\n",
       "      <td>[my, vertigo, have, not, respond, to, conserva...</td>\n",
       "    </tr>\n",
       "    <tr>\n",
       "      <th>3</th>\n",
       "      <td>25</td>\n",
       "      <td>Muscle spasms, muscle twitching, muscle sorene...</td>\n",
       "      <td>[muscle, spasm, muscle, twitching, muscle, sor...</td>\n",
       "    </tr>\n",
       "    <tr>\n",
       "      <th>4</th>\n",
       "      <td>26</td>\n",
       "      <td>I took Lexapro for 3 days in 10mg doses and ha...</td>\n",
       "      <td>[I, take, lexapro, for, 3, day, in, 10, mg, do...</td>\n",
       "    </tr>\n",
       "    <tr>\n",
       "      <th>5</th>\n",
       "      <td>27</td>\n",
       "      <td>Im sorry this is more about not taking it than...</td>\n",
       "      <td>[I, m, sorry, this, be, more, about, not, take...</td>\n",
       "    </tr>\n",
       "    <tr>\n",
       "      <th>6</th>\n",
       "      <td>30</td>\n",
       "      <td>Extreme Weight Gain 30 pounds.</td>\n",
       "      <td>[extreme, weight, gain, 30, pound]</td>\n",
       "    </tr>\n",
       "    <tr>\n",
       "      <th>7</th>\n",
       "      <td>31</td>\n",
       "      <td>Excessive perspiration, Erectile dysfunction.</td>\n",
       "      <td>[excessive, perspiration, erectile, dysfunction]</td>\n",
       "    </tr>\n",
       "    <tr>\n",
       "      <th>8</th>\n",
       "      <td>32</td>\n",
       "      <td>Almost no libido at all, Utterly useless.</td>\n",
       "      <td>[almost, no, libido, at, all, utterly, useless]</td>\n",
       "    </tr>\n",
       "    <tr>\n",
       "      <th>9</th>\n",
       "      <td>33</td>\n",
       "      <td>Took a while to have an effect on mood obvious...</td>\n",
       "      <td>[take, a, while, to, have, an, effect, on, moo...</td>\n",
       "    </tr>\n",
       "  </tbody>\n",
       "</table>\n",
       "</div>"
      ],
      "text/plain": [
       "   id                                               Text  \\\n",
       "0  22  The vertigo is rendering me unable to function...   \n",
       "1  23  I am seeing a specialist for the vertigo and u...   \n",
       "2  24  My vertigo has not responded to conservative t...   \n",
       "3  25  Muscle spasms, muscle twitching, muscle sorene...   \n",
       "4  26  I took Lexapro for 3 days in 10mg doses and ha...   \n",
       "5  27  Im sorry this is more about not taking it than...   \n",
       "6  30                     Extreme Weight Gain 30 pounds.   \n",
       "7  31      Excessive perspiration, Erectile dysfunction.   \n",
       "8  32          Almost no libido at all, Utterly useless.   \n",
       "9  33  Took a while to have an effect on mood obvious...   \n",
       "\n",
       "                                  adv_name_processed  \n",
       "0  [the, vertigo, be, render, I, unable, to, func...  \n",
       "1  [I, be, see, a, specialist, for, the, vertigo,...  \n",
       "2  [my, vertigo, have, not, respond, to, conserva...  \n",
       "3  [muscle, spasm, muscle, twitching, muscle, sor...  \n",
       "4  [I, take, lexapro, for, 3, day, in, 10, mg, do...  \n",
       "5  [I, m, sorry, this, be, more, about, not, take...  \n",
       "6                 [extreme, weight, gain, 30, pound]  \n",
       "7   [excessive, perspiration, erectile, dysfunction]  \n",
       "8    [almost, no, libido, at, all, utterly, useless]  \n",
       "9  [take, a, while, to, have, an, effect, on, moo...  "
      ]
     },
     "execution_count": 43,
     "metadata": {},
     "output_type": "execute_result"
    }
   ],
   "source": [
    "adverse_effects.head(10)"
   ]
  },
  {
   "cell_type": "code",
   "execution_count": 44,
   "id": "6cdcf80c",
   "metadata": {},
   "outputs": [
    {
     "data": {
      "text/html": [
       "<div>\n",
       "<style scoped>\n",
       "    .dataframe tbody tr th:only-of-type {\n",
       "        vertical-align: middle;\n",
       "    }\n",
       "\n",
       "    .dataframe tbody tr th {\n",
       "        vertical-align: top;\n",
       "    }\n",
       "\n",
       "    .dataframe thead th {\n",
       "        text-align: right;\n",
       "    }\n",
       "</style>\n",
       "<table border=\"1\" class=\"dataframe\">\n",
       "  <thead>\n",
       "    <tr style=\"text-align: right;\">\n",
       "      <th></th>\n",
       "      <th>CUI</th>\n",
       "      <th>CONCEPT</th>\n",
       "      <th>SNOMED_CODE</th>\n",
       "      <th>concept_name_processed</th>\n",
       "    </tr>\n",
       "  </thead>\n",
       "  <tbody>\n",
       "    <tr>\n",
       "      <th>0</th>\n",
       "      <td>C0000765</td>\n",
       "      <td>Excessive body weight gain,Excessive weight gain</td>\n",
       "      <td>224994002</td>\n",
       "      <td>[excessive, body, weight, gainexcessive, weigh...</td>\n",
       "    </tr>\n",
       "    <tr>\n",
       "      <th>1</th>\n",
       "      <td>C0701811</td>\n",
       "      <td>Poor short-term memory,Poor short-term memory</td>\n",
       "      <td>247592009</td>\n",
       "      <td>[poor, shortterm, memorypoor, shortterm, memory]</td>\n",
       "    </tr>\n",
       "    <tr>\n",
       "      <th>2</th>\n",
       "      <td>C0002170</td>\n",
       "      <td>Alopecia,Loss of hair</td>\n",
       "      <td>278040002</td>\n",
       "      <td>[alopecialoss, of, hair]</td>\n",
       "    </tr>\n",
       "    <tr>\n",
       "      <th>3</th>\n",
       "      <td>C0549622</td>\n",
       "      <td>Sexual Dysfunction,Sexual disorder</td>\n",
       "      <td>231532002</td>\n",
       "      <td>[sexual, dysfunctionsexual, disorder]</td>\n",
       "    </tr>\n",
       "    <tr>\n",
       "      <th>4</th>\n",
       "      <td>C0027497</td>\n",
       "      <td>Nausea,Nausea</td>\n",
       "      <td>422587007</td>\n",
       "      <td>[nauseanausea]</td>\n",
       "    </tr>\n",
       "    <tr>\n",
       "      <th>5</th>\n",
       "      <td>C0344232</td>\n",
       "      <td>Blurred vision,Blurring of visual image</td>\n",
       "      <td>111516008</td>\n",
       "      <td>[blurred, visionblurring, of, visual, image]</td>\n",
       "    </tr>\n",
       "    <tr>\n",
       "      <th>6</th>\n",
       "      <td>C0037316</td>\n",
       "      <td>Sleep Deprivation,Sleep deprivation</td>\n",
       "      <td>130989002</td>\n",
       "      <td>[sleep, deprivationsleep, deprivation]</td>\n",
       "    </tr>\n",
       "    <tr>\n",
       "      <th>7</th>\n",
       "      <td>C0424000</td>\n",
       "      <td>Feeling suicidal,Feeling suicidal</td>\n",
       "      <td>225457007</td>\n",
       "      <td>[feel, suicidalfeele, suicidal]</td>\n",
       "    </tr>\n",
       "    <tr>\n",
       "      <th>8</th>\n",
       "      <td>C0424565</td>\n",
       "      <td>Cannot sleep at all,Cannot sleep at all</td>\n",
       "      <td>248255005</td>\n",
       "      <td>[can, not, sleep, at, allcannot, sleep, at, all]</td>\n",
       "    </tr>\n",
       "    <tr>\n",
       "      <th>9</th>\n",
       "      <td>C1971624</td>\n",
       "      <td>Loss of appetite,Loss of appetite</td>\n",
       "      <td>79890006</td>\n",
       "      <td>[loss, of, appetiteloss, of, appetite]</td>\n",
       "    </tr>\n",
       "  </tbody>\n",
       "</table>\n",
       "</div>"
      ],
      "text/plain": [
       "         CUI                                           CONCEPT SNOMED_CODE  \\\n",
       "0  C0000765   Excessive body weight gain,Excessive weight gain   224994002   \n",
       "1  C0701811      Poor short-term memory,Poor short-term memory   247592009   \n",
       "2  C0002170                              Alopecia,Loss of hair   278040002   \n",
       "3  C0549622                 Sexual Dysfunction,Sexual disorder   231532002   \n",
       "4  C0027497                                      Nausea,Nausea   422587007   \n",
       "5  C0344232            Blurred vision,Blurring of visual image   111516008   \n",
       "6  C0037316                Sleep Deprivation,Sleep deprivation   130989002   \n",
       "7  C0424000                  Feeling suicidal,Feeling suicidal   225457007   \n",
       "8  C0424565            Cannot sleep at all,Cannot sleep at all   248255005   \n",
       "9  C1971624                  Loss of appetite,Loss of appetite    79890006   \n",
       "\n",
       "                              concept_name_processed  \n",
       "0  [excessive, body, weight, gainexcessive, weigh...  \n",
       "1   [poor, shortterm, memorypoor, shortterm, memory]  \n",
       "2                           [alopecialoss, of, hair]  \n",
       "3              [sexual, dysfunctionsexual, disorder]  \n",
       "4                                     [nauseanausea]  \n",
       "5       [blurred, visionblurring, of, visual, image]  \n",
       "6             [sleep, deprivationsleep, deprivation]  \n",
       "7                    [feel, suicidalfeele, suicidal]  \n",
       "8   [can, not, sleep, at, allcannot, sleep, at, all]  \n",
       "9             [loss, of, appetiteloss, of, appetite]  "
      ]
     },
     "execution_count": 44,
     "metadata": {},
     "output_type": "execute_result"
    }
   ],
   "source": [
    "CUIs.head(10)"
   ]
  },
  {
   "cell_type": "code",
   "execution_count": 45,
   "id": "c7d2de24",
   "metadata": {},
   "outputs": [],
   "source": [
    "adverse_effects['adv_name_processed'] = adverse_effects['adv_name_processed'].apply(lambda x: sorted(x))\n",
    "CUIs['concept_name_processed'] = CUIs['concept_name_processed'].apply(lambda x: sorted(x))"
   ]
  },
  {
   "cell_type": "code",
   "execution_count": 47,
   "id": "d6274c61",
   "metadata": {},
   "outputs": [],
   "source": [
    "# Загрузите предварительно обученную модель встраивания слов\n",
    "model_path = r\"C:\\Users\\annav\\Downloads\\BioWordVec_PubMed_MIMICIII_d200.vec.bin\" # скачать здесь https://github.com/ncbi-nlp/BioSentVec\n",
    "word2vec_model = gensim.models.KeyedVectors.load_word2vec_format(model_path, binary=True)"
   ]
  },
  {
   "cell_type": "code",
   "execution_count": 49,
   "id": "02aa6296",
   "metadata": {},
   "outputs": [],
   "source": [
    "# Функция для векторизации текста с использованием BioWordVec\n",
    "def vectorize_text_with_gensim_embeddings(text, model):\n",
    "    tokens = text.split()\n",
    "    vectors = [model[token] for token in tokens if token in model]\n",
    "    if vectors:\n",
    "        return np.mean(vectors, axis=0)  # Усреднение векторов\n",
    "    else:\n",
    "        return np.zeros(model.vector_size)  # Возвращает нулевой вектор, если нет известных слов"
   ]
  },
  {
   "cell_type": "code",
   "execution_count": 50,
   "id": "5d548ae2",
   "metadata": {},
   "outputs": [
    {
     "name": "stdout",
     "output_type": "stream",
     "text": [
      "Затраченное время: 0.0 секунд(ы)\n"
     ]
    }
   ],
   "source": [
    "start_time = time.time()\n",
    "# Применение функции к медицинским терминам в обоих наборах данных\n",
    "adverse_effects['adv_eff_vector'] = adverse_effects['adv_name_processed'].apply(lambda x: vectorize_text_with_gensim_embeddings(' '.join(x), word2vec_model))\n",
    "CUIs['CUI_vector'] = CUIs['concept_name_processed'].apply(lambda x: vectorize_text_with_gensim_embeddings(' '.join(x), word2vec_model))\n",
    "# Удаление строк с отсутствующими векторами\n",
    "adverse_effects = adverse_effects.dropna(subset=['adv_eff_vector'])\n",
    "CUIs = CUIs.dropna(subset=['CUI_vector'])\n",
    "elapsed_time = (time.time() - start_time)/60\n",
    "print(f\"Затраченное время: {elapsed_time:.1f} секунд(ы)\")"
   ]
  },
  {
   "cell_type": "code",
   "execution_count": 51,
   "id": "97edd0d4",
   "metadata": {},
   "outputs": [
    {
     "name": "stdout",
     "output_type": "stream",
     "text": [
      "Затраченное время: 0.0 секунд(ы)\n"
     ]
    }
   ],
   "source": [
    "start_time = time.time()\n",
    "num_top_matches = 2\n",
    "v1 = np.vstack(adverse_effects['adv_eff_vector'])\n",
    "v2 = np.vstack(CUIs['CUI_vector'])\n",
    "elapsed_time = (time.time() - start_time) / 60\n",
    "print(f\"Затраченное время: {elapsed_time:.1f} секунд(ы)\")"
   ]
  },
  {
   "cell_type": "code",
   "execution_count": 52,
   "id": "e01ab2e9",
   "metadata": {},
   "outputs": [
    {
     "name": "stdout",
     "output_type": "stream",
     "text": [
      "Затраченное время: 0.2 секунд(ы)\n"
     ]
    }
   ],
   "source": [
    "similarity = cosine_similarity(v1, v2)\n",
    "tops = (-similarity).argsort()[:, :num_top_matches]\n",
    "\n",
    "joined_table = pd.concat(\n",
    "    [pd.concat( \n",
    "        [adverse_effects.loc[[i], ['Text', 'id']].reset_index(drop=True), \n",
    "         CUIs.loc[[t], ['CUI', 'CONCEPT']].reset_index(drop=True),\n",
    "         pd.Series(similarity[i][t], name='Similarity')], axis= 1    \n",
    "    )                       \n",
    "     for i in range(0, len(adverse_effects)) for t in tops[i]]       \n",
    ").reset_index(drop=True)\n",
    "\n",
    "elapsed_time = (time.time() - start_time) / 60\n",
    "print(f\"Затраченное время: {elapsed_time:.1f} секунд(ы)\")"
   ]
  },
  {
   "cell_type": "code",
   "execution_count": 54,
   "id": "2a22a2ac",
   "metadata": {},
   "outputs": [],
   "source": [
    "joined_table.to_csv(\"hw4_nlp_med_akopeikina.csv\", index=False)"
   ]
  },
  {
   "cell_type": "code",
   "execution_count": 57,
   "id": "82793d09",
   "metadata": {},
   "outputs": [
    {
     "name": "stderr",
     "output_type": "stream",
     "text": [
      "Some weights of the model checkpoint at DeepPavlov/rubert-base-cased were not used when initializing BertModel: ['cls.predictions.bias', 'cls.predictions.decoder.bias', 'cls.predictions.decoder.weight', 'cls.predictions.transform.LayerNorm.bias', 'cls.predictions.transform.LayerNorm.weight', 'cls.predictions.transform.dense.bias', 'cls.predictions.transform.dense.weight', 'cls.seq_relationship.bias', 'cls.seq_relationship.weight']\n",
      "- This IS expected if you are initializing BertModel from the checkpoint of a model trained on another task or with another architecture (e.g. initializing a BertForSequenceClassification model from a BertForPreTraining model).\n",
      "- This IS NOT expected if you are initializing BertModel from the checkpoint of a model that you expect to be exactly identical (initializing a BertForSequenceClassification model from a BertForSequenceClassification model).\n"
     ]
    }
   ],
   "source": [
    "from transformers import AutoModel, AutoTokenizer\n",
    "\n",
    "model_name = \"DeepPavlov/rubert-base-cased\"  # Пример для русскоязычной модели\n",
    "model = AutoModel.from_pretrained(model_name)\n",
    "tokenizer = AutoTokenizer.from_pretrained(model_name)"
   ]
  },
  {
   "cell_type": "code",
   "execution_count": 62,
   "id": "dd0f72e8",
   "metadata": {},
   "outputs": [
    {
     "name": "stdout",
     "output_type": "stream",
     "text": [
      "         CUI                                           CONCEPT SNOMED_CODE  \\\n",
      "0  C0000765   Excessive body weight gain,Excessive weight gain   224994002   \n",
      "1  C0701811      Poor short-term memory,Poor short-term memory   247592009   \n",
      "2  C0002170                              Alopecia,Loss of hair   278040002   \n",
      "3  C0549622                 Sexual Dysfunction,Sexual disorder   231532002   \n",
      "4  C0027497                                      Nausea,Nausea   422587007   \n",
      "\n",
      "                             concept_name_processed  \\\n",
      "0  excessive body weight gain,excessive weight gain   \n",
      "1     poor short-term memory,poor short-term memory   \n",
      "2                             alopecia,loss of hair   \n",
      "3                sexual dysfunction,sexual disorder   \n",
      "4                                     nausea,nausea   \n",
      "\n",
      "                                           embedding  \n",
      "0   3.51062715e-01, 1.99517235e-01, 2.22628027e-0...  \n",
      "1  -1.98926389e-01, 1.70280382e-01,-3.48508000e-0...  \n",
      "2   4.35336262e-01, 2.35794678e-01, 2.22056746e-0...  \n",
      "3   3.57624352e-01, 3.94846112e-01, 5.42085506e-0...  \n",
      "4   1.18718877e-01, 6.63190722e-01, 3.63103330e-0...  \n"
     ]
    }
   ],
   "source": [
    "import pandas as pd\n",
    "import torch\n",
    "from transformers import BertTokenizer, BertModel\n",
    "import numpy as np\n",
    "\n",
    "# Шаг 1: Загрузка токенизатора и модели BERT\n",
    "tokenizer = BertTokenizer.from_pretrained('bert-base-uncased')  # или укажите свой путь к модели\n",
    "model = BertModel.from_pretrained('bert-base-uncased')  # или укажите свой путь к модели\n",
    "\n",
    "# Функция для извлечения эмбеддингов (среднее по токенам)\n",
    "def get_embedding(text):\n",
    "    # Токенизация текста\n",
    "    inputs = tokenizer(text, return_tensors=\"pt\", padding=True, truncation=True, max_length=512)\n",
    "    with torch.no_grad():\n",
    "        outputs = model(**inputs)\n",
    "    last_hidden_states = outputs.last_hidden_state  # Получаем последние скрытые состояния\n",
    "\n",
    "    # Усредняем эмбеддинги по всем токенам (среднее значение по токенам)\n",
    "    sentence_embedding = last_hidden_states.mean(dim=1)  # Размерность [batch_size, hidden_size]\n",
    "    \n",
    "    # Преобразуем эмбеддинг в numpy массив\n",
    "    return sentence_embedding.squeeze().numpy()\n",
    "\n",
    "# Шаг 2: Загрузка данных из файлов\n",
    "# Загружаем текст из файла ADR\n",
    "adr_file = r\"C:\\Users\\annav\\OneDrive\\Desktop\\NaturalLanguageProcessing_tests\\hw4_nlp\\lesson4_ADR.txt\"\n",
    "ciuconcept_file = r\"C:\\Users\\annav\\OneDrive\\Desktop\\NaturalLanguageProcessing_tests\\hw4_nlp\\lesson4_CIUconcept.tsv\"\n",
    "\n",
    "# Загружаем текст из файла ADR (просто для примера, можно использовать концепты)\n",
    "with open(adr_file, 'r', encoding='utf-8') as f:\n",
    "    adr_text = f.read().splitlines()  # Предполагаем, что каждая строка в файле это отдельный текст\n",
    "\n",
    "# Загружаем TSV файл в DataFrame\n",
    "ciu_df = pd.read_csv(ciuconcept_file, sep='\\t')\n",
    "\n",
    "# Шаг 3: Обработка текста и извлечение эмбеддингов\n",
    "# Применяем предобработку и извлечение эмбеддингов для каждого концепта\n",
    "ciu_df['concept_name_processed'] = ciu_df['CONCEPT'].apply(lambda x: x.lower())  # Пример предобработки текста (приведение к нижнему регистру)\n",
    "ciu_df['embedding'] = ciu_df['concept_name_processed'].apply(get_embedding)\n",
    "\n",
    "# Шаг 4: Сохранение результата в CSV файл\n",
    "# Для корректной записи эмбеддингов в CSV, преобразуем массив эмбеддингов в строку\n",
    "ciu_df['embedding'] = ciu_df['embedding'].apply(lambda x: np.array2string(x, separator=',')[1:-1])  # Убираем квадратные скобки\n",
    "\n",
    "ciu_df.to_csv(\"output_with_embeddings.csv\", index=False)\n",
    "\n",
    "# Печать первых нескольких строк результата\n",
    "print(ciu_df.head())\n"
   ]
  },
  {
   "cell_type": "code",
   "execution_count": 60,
   "id": "eced5c3e",
   "metadata": {},
   "outputs": [
    {
     "name": "stdout",
     "output_type": "stream",
     "text": [
      "Defaulting to user installation because normal site-packages is not writeable\n",
      "Collecting deeppavlov\n",
      "  Downloading deeppavlov-1.7.0-py3-none-any.whl (492 kB)\n",
      "Collecting fastapi<=0.89.1,>=0.47.0\n",
      "  Downloading fastapi-0.89.1-py3-none-any.whl (55 kB)\n",
      "Collecting wheel\n",
      "  Downloading wheel-0.45.1-py3-none-any.whl (72 kB)\n",
      "Collecting numpy<1.24\n",
      "  Downloading numpy-1.23.5-cp310-cp310-win_amd64.whl (14.6 MB)\n",
      "Collecting uvicorn<0.19.0,>=0.13.0\n",
      "  Downloading uvicorn-0.18.3-py3-none-any.whl (57 kB)\n",
      "Collecting scikit-learn<1.1.0,>=0.24\n",
      "  Downloading scikit_learn-1.0.2-cp310-cp310-win_amd64.whl (7.2 MB)\n",
      "Collecting prometheus-client<=1.16.0,>=0.13.0\n",
      "  Downloading prometheus_client-0.21.1-py3-none-any.whl (54 kB)\n",
      "Collecting scipy==1.10.0\n",
      "  Downloading scipy-1.10.0-cp310-cp310-win_amd64.whl (42.5 MB)\n",
      "Collecting filelock<3.10.0,>=3.0.0\n",
      "  Downloading filelock-3.9.1-py3-none-any.whl (9.7 kB)\n",
      "Requirement already satisfied: pydantic<2 in c:\\users\\annav\\appdata\\roaming\\python\\python310\\site-packages (from deeppavlov) (1.10.21)\n",
      "Requirement already satisfied: requests<3.0.0,>=2.19.0 in c:\\users\\annav\\appdata\\roaming\\python\\python310\\site-packages (from deeppavlov) (2.32.3)\n",
      "Collecting pandas<1.6.0,>=1.0.0\n",
      "  Downloading pandas-1.5.3-cp310-cp310-win_amd64.whl (10.4 MB)\n",
      "Requirement already satisfied: nltk<3.10.0,>=3.2.4 in c:\\users\\annav\\appdata\\roaming\\python\\python310\\site-packages (from deeppavlov) (3.9.1)\n",
      "Collecting tqdm<4.65.0,>=4.42.0\n",
      "  Downloading tqdm-4.64.1-py2.py3-none-any.whl (78 kB)\n",
      "Collecting pybind11==2.10.3\n",
      "  Downloading pybind11-2.10.3-py3-none-any.whl (222 kB)\n",
      "Collecting starlette==0.22.0\n",
      "  Downloading starlette-0.22.0-py3-none-any.whl (64 kB)\n",
      "Collecting anyio<5,>=3.4.0\n",
      "  Downloading anyio-4.9.0-py3-none-any.whl (100 kB)\n",
      "Requirement already satisfied: exceptiongroup>=1.0.2 in c:\\users\\annav\\appdata\\roaming\\python\\python310\\site-packages (from anyio<5,>=3.4.0->starlette==0.22.0->fastapi<=0.89.1,>=0.47.0->deeppavlov) (1.2.2)\n",
      "Collecting sniffio>=1.1\n",
      "  Downloading sniffio-1.3.1-py3-none-any.whl (10 kB)\n",
      "Requirement already satisfied: typing_extensions>=4.5 in c:\\users\\annav\\appdata\\roaming\\python\\python310\\site-packages (from anyio<5,>=3.4.0->starlette==0.22.0->fastapi<=0.89.1,>=0.47.0->deeppavlov) (4.12.2)\n",
      "Requirement already satisfied: idna>=2.8 in c:\\users\\annav\\appdata\\roaming\\python\\python310\\site-packages (from anyio<5,>=3.4.0->starlette==0.22.0->fastapi<=0.89.1,>=0.47.0->deeppavlov) (3.10)\n",
      "Requirement already satisfied: joblib in c:\\users\\annav\\appdata\\roaming\\python\\python310\\site-packages (from nltk<3.10.0,>=3.2.4->deeppavlov) (1.4.2)\n",
      "Requirement already satisfied: click in c:\\users\\annav\\appdata\\roaming\\python\\python310\\site-packages (from nltk<3.10.0,>=3.2.4->deeppavlov) (8.1.8)\n",
      "Requirement already satisfied: regex>=2021.8.3 in c:\\users\\annav\\appdata\\roaming\\python\\python310\\site-packages (from nltk<3.10.0,>=3.2.4->deeppavlov) (2024.11.6)\n",
      "Requirement already satisfied: pytz>=2020.1 in c:\\users\\annav\\appdata\\roaming\\python\\python310\\site-packages (from pandas<1.6.0,>=1.0.0->deeppavlov) (2025.1)\n",
      "Requirement already satisfied: python-dateutil>=2.8.1 in c:\\users\\annav\\appdata\\roaming\\python\\python310\\site-packages (from pandas<1.6.0,>=1.0.0->deeppavlov) (2.9.0.post0)\n",
      "Requirement already satisfied: six>=1.5 in c:\\users\\annav\\appdata\\roaming\\python\\python310\\site-packages (from python-dateutil>=2.8.1->pandas<1.6.0,>=1.0.0->deeppavlov) (1.17.0)\n",
      "Requirement already satisfied: certifi>=2017.4.17 in c:\\users\\annav\\appdata\\roaming\\python\\python310\\site-packages (from requests<3.0.0,>=2.19.0->deeppavlov) (2025.1.31)\n",
      "Requirement already satisfied: charset-normalizer<4,>=2 in c:\\users\\annav\\appdata\\roaming\\python\\python310\\site-packages (from requests<3.0.0,>=2.19.0->deeppavlov) (3.4.1)\n",
      "Requirement already satisfied: urllib3<3,>=1.21.1 in c:\\users\\annav\\appdata\\roaming\\python\\python310\\site-packages (from requests<3.0.0,>=2.19.0->deeppavlov) (2.3.0)\n",
      "Requirement already satisfied: threadpoolctl>=2.0.0 in c:\\users\\annav\\appdata\\roaming\\python\\python310\\site-packages (from scikit-learn<1.1.0,>=0.24->deeppavlov) (3.6.0)\n",
      "Requirement already satisfied: colorama in c:\\users\\annav\\appdata\\roaming\\python\\python310\\site-packages (from tqdm<4.65.0,>=4.42.0->deeppavlov) (0.4.6)\n",
      "Collecting h11>=0.8\n",
      "  Downloading h11-0.14.0-py3-none-any.whl (58 kB)\n",
      "Installing collected packages: sniffio, numpy, anyio, tqdm, starlette, scipy, h11, wheel, uvicorn, scikit-learn, pybind11, prometheus-client, pandas, filelock, fastapi, deeppavlov\n",
      "  Attempting uninstall: numpy\n",
      "    Found existing installation: numpy 1.26.4\n",
      "    Uninstalling numpy-1.26.4:\n",
      "      Successfully uninstalled numpy-1.26.4\n",
      "Note: you may need to restart the kernel to use updated packages.\n"
     ]
    },
    {
     "name": "stderr",
     "output_type": "stream",
     "text": [
      "ERROR: Could not install packages due to an OSError: [WinError 5] Access is denied: 'C:\\\\Users\\\\annav\\\\AppData\\\\Roaming\\\\Python\\\\Python310\\\\site-packages\\\\~-mpy.libs\\\\libopenblas64__v0.3.23-293-gc2f4bdbb-gcc_10_3_0-2bde3a66a51006b2b53eb373ff767a3f.dll'\n",
      "Check the permissions.\n",
      "\n",
      "WARNING: You are using pip version 21.2.3; however, version 25.0.1 is available.\n",
      "You should consider upgrading via the 'c:\\Program Files\\Python310\\python.exe -m pip install --upgrade pip' command.\n"
     ]
    }
   ],
   "source": [
    "%pip install deeppavlov"
   ]
  },
  {
   "cell_type": "code",
   "execution_count": 64,
   "id": "c26a9cb0",
   "metadata": {},
   "outputs": [
    {
     "name": "stdout",
     "output_type": "stream",
     "text": [
      "Defaulting to user installation because normal site-packages is not writeable\n",
      "Collecting deeppavlov\n",
      "  Using cached deeppavlov-1.7.0-py3-none-any.whl (492 kB)\n",
      "Collecting filelock<3.10.0,>=3.0.0\n",
      "  Using cached filelock-3.9.1-py3-none-any.whl (9.7 kB)\n",
      "Collecting tqdm<4.65.0,>=4.42.0\n",
      "  Using cached tqdm-4.64.1-py2.py3-none-any.whl (78 kB)\n",
      "Collecting wheel\n",
      "  Using cached wheel-0.45.1-py3-none-any.whl (72 kB)\n",
      "Requirement already satisfied: requests<3.0.0,>=2.19.0 in c:\\users\\annav\\appdata\\roaming\\python\\python310\\site-packages (from deeppavlov) (2.32.3)\n",
      "Collecting pybind11==2.10.3\n",
      "  Using cached pybind11-2.10.3-py3-none-any.whl (222 kB)\n",
      "Collecting fastapi<=0.89.1,>=0.47.0\n",
      "  Using cached fastapi-0.89.1-py3-none-any.whl (55 kB)\n",
      "Requirement already satisfied: numpy<1.24 in c:\\users\\annav\\appdata\\roaming\\python\\python310\\site-packages (from deeppavlov) (1.23.5)\n",
      "Collecting prometheus-client<=1.16.0,>=0.13.0\n",
      "  Using cached prometheus_client-0.21.1-py3-none-any.whl (54 kB)\n",
      "Collecting uvicorn<0.19.0,>=0.13.0\n",
      "  Using cached uvicorn-0.18.3-py3-none-any.whl (57 kB)\n",
      "Collecting scikit-learn<1.1.0,>=0.24\n",
      "  Using cached scikit_learn-1.0.2-cp310-cp310-win_amd64.whl (7.2 MB)\n",
      "Collecting pandas<1.6.0,>=1.0.0\n",
      "  Using cached pandas-1.5.3-cp310-cp310-win_amd64.whl (10.4 MB)\n",
      "Collecting scipy==1.10.0\n",
      "  Using cached scipy-1.10.0-cp310-cp310-win_amd64.whl (42.5 MB)\n",
      "Requirement already satisfied: nltk<3.10.0,>=3.2.4 in c:\\users\\annav\\appdata\\roaming\\python\\python310\\site-packages (from deeppavlov) (3.9.1)\n",
      "Requirement already satisfied: pydantic<2 in c:\\users\\annav\\appdata\\roaming\\python\\python310\\site-packages (from deeppavlov) (1.10.21)\n",
      "Collecting starlette==0.22.0\n",
      "  Using cached starlette-0.22.0-py3-none-any.whl (64 kB)\n",
      "Collecting anyio<5,>=3.4.0\n",
      "  Using cached anyio-4.9.0-py3-none-any.whl (100 kB)\n",
      "Requirement already satisfied: sniffio>=1.1 in c:\\users\\annav\\appdata\\roaming\\python\\python310\\site-packages (from anyio<5,>=3.4.0->starlette==0.22.0->fastapi<=0.89.1,>=0.47.0->deeppavlov) (1.3.1)\n",
      "Requirement already satisfied: idna>=2.8 in c:\\users\\annav\\appdata\\roaming\\python\\python310\\site-packages (from anyio<5,>=3.4.0->starlette==0.22.0->fastapi<=0.89.1,>=0.47.0->deeppavlov) (3.10)\n",
      "Requirement already satisfied: typing_extensions>=4.5 in c:\\users\\annav\\appdata\\roaming\\python\\python310\\site-packages (from anyio<5,>=3.4.0->starlette==0.22.0->fastapi<=0.89.1,>=0.47.0->deeppavlov) (4.12.2)\n",
      "Requirement already satisfied: exceptiongroup>=1.0.2 in c:\\users\\annav\\appdata\\roaming\\python\\python310\\site-packages (from anyio<5,>=3.4.0->starlette==0.22.0->fastapi<=0.89.1,>=0.47.0->deeppavlov) (1.2.2)\n",
      "Requirement already satisfied: click in c:\\users\\annav\\appdata\\roaming\\python\\python310\\site-packages (from nltk<3.10.0,>=3.2.4->deeppavlov) (8.1.8)\n",
      "Requirement already satisfied: joblib in c:\\users\\annav\\appdata\\roaming\\python\\python310\\site-packages (from nltk<3.10.0,>=3.2.4->deeppavlov) (1.4.2)\n",
      "Requirement already satisfied: regex>=2021.8.3 in c:\\users\\annav\\appdata\\roaming\\python\\python310\\site-packages (from nltk<3.10.0,>=3.2.4->deeppavlov) (2024.11.6)\n",
      "Requirement already satisfied: python-dateutil>=2.8.1 in c:\\users\\annav\\appdata\\roaming\\python\\python310\\site-packages (from pandas<1.6.0,>=1.0.0->deeppavlov) (2.9.0.post0)\n",
      "Requirement already satisfied: pytz>=2020.1 in c:\\users\\annav\\appdata\\roaming\\python\\python310\\site-packages (from pandas<1.6.0,>=1.0.0->deeppavlov) (2025.1)\n",
      "Requirement already satisfied: six>=1.5 in c:\\users\\annav\\appdata\\roaming\\python\\python310\\site-packages (from python-dateutil>=2.8.1->pandas<1.6.0,>=1.0.0->deeppavlov) (1.17.0)\n",
      "Requirement already satisfied: certifi>=2017.4.17 in c:\\users\\annav\\appdata\\roaming\\python\\python310\\site-packages (from requests<3.0.0,>=2.19.0->deeppavlov) (2025.1.31)\n",
      "Requirement already satisfied: urllib3<3,>=1.21.1 in c:\\users\\annav\\appdata\\roaming\\python\\python310\\site-packages (from requests<3.0.0,>=2.19.0->deeppavlov) (2.3.0)\n",
      "Requirement already satisfied: charset-normalizer<4,>=2 in c:\\users\\annav\\appdata\\roaming\\python\\python310\\site-packages (from requests<3.0.0,>=2.19.0->deeppavlov) (3.4.1)\n",
      "Requirement already satisfied: threadpoolctl>=2.0.0 in c:\\users\\annav\\appdata\\roaming\\python\\python310\\site-packages (from scikit-learn<1.1.0,>=0.24->deeppavlov) (3.6.0)\n",
      "Requirement already satisfied: colorama in c:\\users\\annav\\appdata\\roaming\\python\\python310\\site-packages (from tqdm<4.65.0,>=4.42.0->deeppavlov) (0.4.6)\n",
      "Collecting h11>=0.8\n",
      "  Using cached h11-0.14.0-py3-none-any.whl (58 kB)\n",
      "Installing collected packages: anyio, tqdm, starlette, scipy, h11, wheel, uvicorn, scikit-learn, pybind11, prometheus-client, pandas, filelock, fastapi, deeppavlov\n",
      "  Attempting uninstall: tqdm\n",
      "    Found existing installation: tqdm 4.67.1\n",
      "    Uninstalling tqdm-4.67.1:\n",
      "      Successfully uninstalled tqdm-4.67.1\n",
      "  Attempting uninstall: scipy\n",
      "    Found existing installation: scipy 1.13.1\n",
      "    Uninstalling scipy-1.13.1:\n",
      "      Successfully uninstalled scipy-1.13.1\n",
      "Note: you may need to restart the kernel to use updated packages.\n"
     ]
    },
    {
     "name": "stderr",
     "output_type": "stream",
     "text": [
      "ERROR: Could not install packages due to an OSError: [WinError 5] Access is denied: 'C:\\\\Users\\\\annav\\\\AppData\\\\Roaming\\\\Python\\\\Python310\\\\site-packages\\\\~-ipy.libs\\\\libopenblas_v0.3.27--3aa239bc726cfb0bd8e5330d8d4c15c6.dll'\n",
      "Check the permissions.\n",
      "\n",
      "WARNING: You are using pip version 21.2.3; however, version 25.0.1 is available.\n",
      "You should consider upgrading via the 'c:\\Program Files\\Python310\\python.exe -m pip install --upgrade pip' command.\n"
     ]
    }
   ],
   "source": [
    "%pip install deeppavlov"
   ]
  },
  {
   "cell_type": "code",
   "execution_count": null,
   "id": "04af8b53",
   "metadata": {},
   "outputs": [],
   "source": [
    "import pandas as pd\n",
    "import numpy as np\n",
    "from deeppavlov import build_model, configs\n",
    "\n",
    "# Шаг 1: Загрузка модели DeepPavlov для извлечения эмбеддингов\n",
    "# Модель BERT для генерации эмбеддингов (можно выбрать другие модели, например, RuBert или другие предобученные модели)\n",
    "model = build_model(configs.embeddings.bert, download=True)  # Используется BERT для эмбеддингов\n",
    "\n",
    "# Функция для извлечения эмбеддингов с помощью DeepPavlov\n",
    "def get_embedding(text):\n",
    "    # В DeepPavlov модель уже ожидает список текстов, так что мы передаем список\n",
    "    embeddings = model([text])\n",
    "    \n",
    "    # Возвращаем эмбеддинг, обычно это массив с размерностью [batch_size, hidden_size]\n",
    "    return embeddings[0]  # Берем первый (и единственный) элемент, так как batch_size = 1\n",
    "\n",
    "# Шаг 2: Загрузка данных из файлов\n",
    "adr_file = r\"C:\\Users\\annav\\OneDrive\\Desktop\\NaturalLanguageProcessing_tests\\hw4_nlp\\lesson4_ADR.txt\"\n",
    "ciuconcept_file = r\"C:\\Users\\annav\\OneDrive\\Desktop\\NaturalLanguageProcessing_tests\\hw4_nlp\\lesson4_CIUconcept.tsv\"\n",
    "\n",
    "# Загружаем текст из файла ADR (можно использовать текст из других файлов)\n",
    "with open(adr_file, 'r', encoding='utf-8') as f:\n",
    "    adr_text = f.read().splitlines()  # Предполагаем, что каждая строка в файле это отдельный текст\n",
    "\n",
    "# Загружаем TSV файл в DataFrame\n",
    "ciu_df = pd.read_csv(ciuconcept_file, sep='\\t')\n",
    "\n",
    "# Шаг 3: Обработка текста и извлечение эмбеддингов\n",
    "ciu_df['concept_name_processed'] = ciu_df['CONCEPT'].apply(lambda x: x.lower())  # Пример предобработки текста (приведение к нижнему регистру)\n",
    "\n",
    "# Применяем извлечение эмбеддингов для каждого концепта\n",
    "ciu_df['embedding'] = ciu_df['concept_name_processed'].apply(get_embedding)\n",
    "\n",
    "# Шаг 4: Сохранение результата в CSV файл\n",
    "# Для корректной записи эмбеддингов в CSV, преобразуем массив эмбеддингов в строку\n",
    "ciu_df['embedding'] = ciu_df['embedding'].apply(lambda x: np.array2string(x, separator=',')[1:-1])  # Убираем квадратные скобки\n",
    "\n",
    "ciu_df.to_csv(\"hw4_nlp_med_embeddings_deeppavlov.csv\", index=False)\n",
    "\n",
    "# Печать первых нескольких строк результата\n",
    "print(ciu_df.head())"
   ]
  }
 ],
 "metadata": {
  "colab": {
   "provenance": []
  },
  "kernelspec": {
   "display_name": "Python 3",
   "language": "python",
   "name": "python3"
  },
  "language_info": {
   "codemirror_mode": {
    "name": "ipython",
    "version": 3
   },
   "file_extension": ".py",
   "mimetype": "text/x-python",
   "name": "python",
   "nbconvert_exporter": "python",
   "pygments_lexer": "ipython3",
   "version": "3.10.0"
  }
 },
 "nbformat": 4,
 "nbformat_minor": 5
}
